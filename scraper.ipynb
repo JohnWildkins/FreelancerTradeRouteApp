{
 "cells": [
  {
   "cell_type": "code",
   "execution_count": 3,
   "metadata": {
    "ExecuteTime": {
     "end_time": "2020-04-18T18:39:13.549699Z",
     "start_time": "2020-04-18T18:39:13.273874Z"
    }
   },
   "outputs": [],
   "source": [
    "import numpy as np\n",
    "import pandas as pd"
   ]
  },
  {
   "cell_type": "code",
   "execution_count": 4,
   "metadata": {
    "ExecuteTime": {
     "end_time": "2020-04-18T18:39:13.963766Z",
     "start_time": "2020-04-18T18:39:13.939162Z"
    }
   },
   "outputs": [],
   "source": [
    "def get_data(comm_markets_path, distances_path):\n",
    "    '''\n",
    "    A function that pulls in the data from marketcommodities.ini and the flc dump file and scrapes it. \n",
    "    +++++++++\n",
    "    Parameters:\n",
    "    comm_markets_path (str): the path of market_commodities.ini\n",
    "    distances_path (str): the path of the flc dump file\n",
    "    +++++++++\n",
    "    Returns\n",
    "    distances (Dataframe): pandas dataframe of all the viable distances between bases\n",
    "    bases(list of dictonaries): list containing all of the base entries in market_commodities.ini in dictonary \n",
    "    form. Dictonaies hold base_code, base_name, and list of commodities traded. \n",
    "    comm_set (set): set of all commodities bought or sold on all bases\n",
    "    base_names (list): all base names\n",
    "    '''\n",
    "\n",
    "\n",
    "    distances = pd.read_csv(distances_path, names = ['start', 'end', 'time'])\n",
    "    distances = distances[distances['start']!=distances['end']]\n",
    "    distances = distances[distances['time']!=-1]\n",
    "\n",
    "    with open(comm_markets_path, 'r') as file:\n",
    "        lines = file.readlines() \n",
    "    \n",
    "    comment_count = 0\n",
    "    bases = []\n",
    "    commodities =[]\n",
    "    for i in lines[2:]:\n",
    "        if i.lower() == '[basegood]\\n' or i == ';EVERYTHING BELOW THIS LINE IS DATABASE.':\n",
    "            if comment =='':\n",
    "                comment = base_code\n",
    "            bases.append({'base_code':base_code, 'Name':comment, 'commodities':commodities})\n",
    "            commodities=[]\n",
    "            comment = ''\n",
    "            comment_count = 0\n",
    "        if i[:4].lower() == \"base\":\n",
    "            base_code = i[7:]\n",
    "        if i[:1] == ';' and comment_count == 0:\n",
    "            comment = i\n",
    "            comment_count+=1\n",
    "        elif i[:1]==';':\n",
    "            print(i)\n",
    "            comment +'\\n'+ i\n",
    "        if i[:10].lower() == 'marketgood':\n",
    "            t =i[13:].split()\n",
    "            l = [float(j.strip(',')) for j in t[1:6]]\n",
    "            l.append(float(t.pop()))\n",
    "            l.append(t[0])\n",
    "            commodities.append(l)\n",
    "    \n",
    "    comm_set = set([])\n",
    "    for i in bases: #this loop in loop adds all the commodities to a set so we know how many commodities to display in our applet\n",
    "        j = i['commodities']\n",
    "        for k in j:\n",
    "            comm_set.add(k[6])\n",
    "    base_names=[i['Name'].strip('\\n') for i in bases]\n",
    "    \n",
    "    return distances, bases, comm_set, base_names,"
   ]
  },
  {
   "cell_type": "code",
   "execution_count": 5,
   "metadata": {
    "ExecuteTime": {
     "end_time": "2020-04-18T18:39:16.188446Z",
     "start_time": "2020-04-18T18:39:16.182261Z"
    }
   },
   "outputs": [],
   "source": [
    "def which_sell(commodity_list):\n",
    "    '''\n",
    "    A helperfunction that digs through bases and finds which ones sell any of a given list of commodities\n",
    "    \n",
    "    Paramaters\n",
    "    commodity_list(list): a list of the commodity codes (strings) you want to find where they're sold\n",
    "    \n",
    "    Returns\n",
    "    list of bases (list): list of base codes that sell any of the given commodities\n",
    "    '''\n",
    "    sells_set = set([])\n",
    "    for i in bases:\n",
    "        for k in i['commodities']:\n",
    "            if k[-1] in commodity_list and k[-3]== 0:\n",
    "                sells_set.add(i['base_code'])\n",
    "    l = list(sells_set)\n",
    "    return [i.strip('\\n') for i in l]"
   ]
  },
  {
   "cell_type": "code",
   "execution_count": null,
   "metadata": {},
   "outputs": [],
   "source": [
    "def sort_by_closest_base(list_of_bases, distances):\n",
    "    '''\n",
    "    a function that takes the distances dataframe and any list of bases and sorts all the other bases out into the lists of bases closest to those bases in the list of bases. \n",
    "    Its got a lot of fuckery, and maybe can be given aother pass for better algorithmic complexity. I'm so sorry. \n",
    "    \n",
    "    Parameters \n",
    "    list_of_bases (list): a list of string base codes\n",
    "    distances (DataFrame): the base to base travel times from flcomp formatted as a DataFrame by get_data()\n",
    "    \n",
    "    Returns:\n",
    "    sorted_l (list of lists) list of list of bases, sorted in the same shape as the list of bases fed in, \n",
    "    with each list containing those bases that are closest to the base listed at the same index in list_of_bases\n",
    "    '''\n",
    "    k = [distances[distances['start'] == i] for i in list_of_bases] # makes a list of dataframes of routes starting from the bases in question\n",
    "    k = [i[~i['end'].isin(list_of_bases)].reset_index() for i in k] # gets rid of routes between bases in the  list\n",
    "    \n",
    "    df = pd.DataFrame()\n",
    "    for idx, i in enumerate(list_of_bases): #peices the list k back together into a larger thing\n",
    "        df[i]=k[idx]['time']\n",
    "    df['base'] = k[0]['end']\n",
    "    df = df.set_index('base')\n",
    "\n",
    "    sorted_bases = df.idxmin(axis=1)\n",
    "    sorted_bases = sorted_bases.reset_index()\n",
    "    sorted_l =[]\n",
    "\n",
    "    for i in list_of_bases:\n",
    "        sorted_l.append(sorted_bases[sorted_bases[0]==i]['base'].to_list())\n",
    "\n",
    "    return sorted_l"
   ]
  },
  {
   "cell_type": "code",
   "execution_count": 31,
   "metadata": {
    "ExecuteTime": {
     "end_time": "2020-04-18T19:28:28.556615Z",
     "start_time": "2020-04-18T19:28:28.551996Z"
    }
   },
   "outputs": [],
   "source": [
    "path_markets = 'market_commodities.ini'\n",
    "distances_path = 'dump.csv'"
   ]
  },
  {
   "cell_type": "code",
   "execution_count": 32,
   "metadata": {
    "ExecuteTime": {
     "end_time": "2020-04-18T19:28:31.091056Z",
     "start_time": "2020-04-18T19:28:30.862752Z"
    }
   },
   "outputs": [],
   "source": [
    "distances, bases, comm_set, base_names = get_data(path_markets, distances_path)"
   ]
  },
  {
   "cell_type": "code",
   "execution_count": 33,
   "metadata": {
    "ExecuteTime": {
     "end_time": "2020-04-18T19:28:39.435668Z",
     "start_time": "2020-04-18T19:28:39.426715Z"
    }
   },
   "outputs": [],
   "source": [
    "list_of_bases = ['li01_01_base','rh01_01_base','br01_01_base', 'ku01_01_base', 'ga01_01_base']\n",
    "\n",
    "food = ['commodity_food,',\n",
    "        'commodity_food_br,',\n",
    "        'commodity_food_ga,',\n",
    "        'commodity_luxury_food,',\n",
    "        'commodity_rice,',\n",
    "        'commodity_gaianlife,',\n",
    "        'commodity_synthpaste,',]"
   ]
  },
  {
   "cell_type": "code",
   "execution_count": 243,
   "metadata": {
    "ExecuteTime": {
     "end_time": "2020-04-19T12:15:53.446599Z",
     "start_time": "2020-04-19T12:15:53.326464Z"
    }
   },
   "outputs": [],
   "source": [
    "l = sort_by_closest_base(list_of_bases, distances)"
   ]
  },
  {
   "cell_type": "code",
   "execution_count": null,
   "metadata": {},
   "outputs": [],
   "source": []
  }
 ],
 "metadata": {
  "kernelspec": {
   "display_name": "Python 3.7.4 64-bit ('anaconda3': virtualenv)",
   "language": "python",
   "name": "python37464bitanaconda3virtualenv4689841a946143dd80c9fcc86c644564"
  },
  "language_info": {
   "codemirror_mode": {
    "name": "ipython",
    "version": 3
   },
   "file_extension": ".py",
   "mimetype": "text/x-python",
   "name": "python",
   "nbconvert_exporter": "python",
   "pygments_lexer": "ipython3",
   "version": "3.7.4"
  }
 },
 "nbformat": 4,
 "nbformat_minor": 2
}
