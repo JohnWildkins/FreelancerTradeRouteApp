{
 "cells": [
  {
   "cell_type": "code",
   "execution_count": 1,
   "metadata": {
    "ExecuteTime": {
     "end_time": "2020-04-16T21:58:15.200519Z",
     "start_time": "2020-04-16T21:58:14.812704Z"
    }
   },
   "outputs": [],
   "source": [
    "import numpy as np\n",
    "import pandas as pd"
   ]
  },
  {
   "cell_type": "code",
   "execution_count": 9,
   "metadata": {
    "ExecuteTime": {
     "end_time": "2020-04-16T21:58:37.097270Z",
     "start_time": "2020-04-16T21:58:37.042549Z"
    }
   },
   "outputs": [],
   "source": [
    "def get_data(comm_markets_path, distances_path):\n",
    "    '''\n",
    "    A function that pulls in the data from marketcommodities.ini and the flc dump file and scrapes it. \n",
    "    +++++++++\n",
    "    Parameters:\n",
    "    comm_markets_path (str): the path of market_commodities.ini\n",
    "    distances_path (str): the path of the flc dump file\n",
    "    +++++++++\n",
    "    Returns\n",
    "    distances (Dataframe): pandas dataframe of all the viable distances between bases\n",
    "    bases(list of dictonaries): list containing all of the base entries in market_commodities.ini in dictonary \n",
    "    form. Dictonaies hold base_code, base_name, and list of commodities traded. \n",
    "    comm_set (set): set of all commodities bought or sold on all bases\n",
    "    base_names (list): all base names\n",
    "    '''\n",
    "\n",
    "\n",
    "    distances = pd.read_csv(distances_path, names = ['start', 'end', 'time'])\n",
    "    distances = distances[distances['start']!=distances['end']]\n",
    "    distances = distances[distances['time']!=-1]\n",
    "\n",
    "    with open(comm_markets_path, 'r') as file:\n",
    "        lines = file.readlines() \n",
    "    \n",
    "    comment_count = 0\n",
    "    bases = []\n",
    "    commodities =[]\n",
    "    for i in lines[2:]:\n",
    "        if i.lower() == '[basegood]\\n' or i == ';EVERYTHING BELOW THIS LINE IS DATABASE.':\n",
    "            if comment =='':\n",
    "                comment = base_code\n",
    "            bases.append({'base_code':base_code, 'Name':comment, 'commodities':commodities})\n",
    "            commodities=[]\n",
    "            comment = ''\n",
    "            comment_count = 0\n",
    "        if i[:4].lower() == \"base\":\n",
    "            base_code = i[7:]\n",
    "        if i[:1] == ';' and comment_count == 0:\n",
    "            comment = i\n",
    "            comment_count+=1\n",
    "        elif i[:1]==';':\n",
    "            print(i)\n",
    "            comment +'\\n'+ i\n",
    "        if i[:10].lower() == 'marketgood':\n",
    "            t =i[13:].split()\n",
    "            l = [float(j.strip(',')) for j in t[1:6]]\n",
    "            l.append(float(t.pop()))\n",
    "            l.append(t[0])\n",
    "            commodities.append(l)\n",
    "    \n",
    "    comm_set = set([])\n",
    "    for i in bases: #this loop in loop adds all the commodities to a set so we know how many commodities to display in our applet\n",
    "        j = i['commodities']\n",
    "        for k in j:\n",
    "            comm_set.add(k[6])\n",
    "    base_names=[i['Name'].strip('\\n') for i in bases]\n",
    "    \n",
    "    return distances, bases, comm_set, base_names,"
   ]
  },
  {
   "cell_type": "code",
   "execution_count": 62,
   "metadata": {
    "ExecuteTime": {
     "end_time": "2020-04-17T14:34:58.369153Z",
     "start_time": "2020-04-17T14:34:58.363346Z"
    }
   },
   "outputs": [],
   "source": [
    "def which_sell(commodity_list):\n",
    "    sells_set = set([])\n",
    "    for i in bases:\n",
    "        for k in i['commodities']:\n",
    "            if k[-1] in commodity_list and k[-3]== 0:\n",
    "                sells_set.add(i['base_code'])\n",
    "    l = list(sells_set)\n",
    "    return [i.strip('\\n') for i in l]"
   ]
  },
  {
   "cell_type": "code",
   "execution_count": 5,
   "metadata": {
    "ExecuteTime": {
     "end_time": "2020-04-16T21:58:25.053835Z",
     "start_time": "2020-04-16T21:58:25.047187Z"
    }
   },
   "outputs": [],
   "source": [
    "path_markets = 'market_commodities.ini'"
   ]
  },
  {
   "cell_type": "code",
   "execution_count": 10,
   "metadata": {
    "ExecuteTime": {
     "end_time": "2020-04-16T21:58:39.367161Z",
     "start_time": "2020-04-16T21:58:39.245883Z"
    }
   },
   "outputs": [],
   "source": [
    "distances, bases, comm_set, base_names = get_data(path_markets, 'distances.csv')"
   ]
  },
  {
   "cell_type": "code",
   "execution_count": 126,
   "metadata": {
    "ExecuteTime": {
     "end_time": "2020-04-12T23:28:00.727825Z",
     "start_time": "2020-04-12T23:28:00.699183Z"
    }
   },
   "outputs": [],
   "source": [
    "now, suppose we sell a commodity from X bases. sort all the other bases into shortest distance from those bases. \n",
    "    \n",
    "        "
   ]
  },
  {
   "cell_type": "code",
   "execution_count": 138,
   "metadata": {
    "ExecuteTime": {
     "end_time": "2020-04-12T23:38:51.448143Z",
     "start_time": "2020-04-12T23:38:51.433592Z"
    }
   },
   "outputs": [
    {
     "data": {
      "text/plain": [
       "297"
      ]
     },
     "execution_count": 138,
     "metadata": {},
     "output_type": "execute_result"
    }
   ],
   "source": [
    "def sort_by_distance(list_of_bases, distances):"
   ]
  },
  {
   "cell_type": "code",
   "execution_count": 158,
   "metadata": {
    "ExecuteTime": {
     "end_time": "2020-04-14T21:06:51.026513Z",
     "start_time": "2020-04-14T21:06:50.975023Z"
    }
   },
   "outputs": [
    {
     "ename": "UndefinedVariableError",
     "evalue": "name 'li01_11_base' is not defined",
     "output_type": "error",
     "traceback": [
      "\u001b[0;31m---------------------------------------------------------------------------\u001b[0m",
      "\u001b[0;31mKeyError\u001b[0m                                  Traceback (most recent call last)",
      "\u001b[0;32m~/anaconda3/lib/python3.7/site-packages/pandas/core/computation/scope.py\u001b[0m in \u001b[0;36mresolve\u001b[0;34m(self, key, is_local)\u001b[0m\n\u001b[1;32m    186\u001b[0m             \u001b[0;32mif\u001b[0m \u001b[0mself\u001b[0m\u001b[0;34m.\u001b[0m\u001b[0mhas_resolvers\u001b[0m\u001b[0;34m:\u001b[0m\u001b[0;34m\u001b[0m\u001b[0;34m\u001b[0m\u001b[0m\n\u001b[0;32m--> 187\u001b[0;31m                 \u001b[0;32mreturn\u001b[0m \u001b[0mself\u001b[0m\u001b[0;34m.\u001b[0m\u001b[0mresolvers\u001b[0m\u001b[0;34m[\u001b[0m\u001b[0mkey\u001b[0m\u001b[0;34m]\u001b[0m\u001b[0;34m\u001b[0m\u001b[0;34m\u001b[0m\u001b[0m\n\u001b[0m\u001b[1;32m    188\u001b[0m \u001b[0;34m\u001b[0m\u001b[0m\n",
      "\u001b[0;32m~/anaconda3/lib/python3.7/collections/__init__.py\u001b[0m in \u001b[0;36m__getitem__\u001b[0;34m(self, key)\u001b[0m\n\u001b[1;32m    915\u001b[0m                 \u001b[0;32mpass\u001b[0m\u001b[0;34m\u001b[0m\u001b[0;34m\u001b[0m\u001b[0m\n\u001b[0;32m--> 916\u001b[0;31m         \u001b[0;32mreturn\u001b[0m \u001b[0mself\u001b[0m\u001b[0;34m.\u001b[0m\u001b[0m__missing__\u001b[0m\u001b[0;34m(\u001b[0m\u001b[0mkey\u001b[0m\u001b[0;34m)\u001b[0m            \u001b[0;31m# support subclasses that define __missing__\u001b[0m\u001b[0;34m\u001b[0m\u001b[0;34m\u001b[0m\u001b[0m\n\u001b[0m\u001b[1;32m    917\u001b[0m \u001b[0;34m\u001b[0m\u001b[0m\n",
      "\u001b[0;32m~/anaconda3/lib/python3.7/collections/__init__.py\u001b[0m in \u001b[0;36m__missing__\u001b[0;34m(self, key)\u001b[0m\n\u001b[1;32m    907\u001b[0m     \u001b[0;32mdef\u001b[0m \u001b[0m__missing__\u001b[0m\u001b[0;34m(\u001b[0m\u001b[0mself\u001b[0m\u001b[0;34m,\u001b[0m \u001b[0mkey\u001b[0m\u001b[0;34m)\u001b[0m\u001b[0;34m:\u001b[0m\u001b[0;34m\u001b[0m\u001b[0;34m\u001b[0m\u001b[0m\n\u001b[0;32m--> 908\u001b[0;31m         \u001b[0;32mraise\u001b[0m \u001b[0mKeyError\u001b[0m\u001b[0;34m(\u001b[0m\u001b[0mkey\u001b[0m\u001b[0;34m)\u001b[0m\u001b[0;34m\u001b[0m\u001b[0;34m\u001b[0m\u001b[0m\n\u001b[0m\u001b[1;32m    909\u001b[0m \u001b[0;34m\u001b[0m\u001b[0m\n",
      "\u001b[0;31mKeyError\u001b[0m: 'li01_11_base'",
      "\nDuring handling of the above exception, another exception occurred:\n",
      "\u001b[0;31mKeyError\u001b[0m                                  Traceback (most recent call last)",
      "\u001b[0;32m~/anaconda3/lib/python3.7/site-packages/pandas/core/computation/scope.py\u001b[0m in \u001b[0;36mresolve\u001b[0;34m(self, key, is_local)\u001b[0m\n\u001b[1;32m    197\u001b[0m                 \u001b[0;31m# e.g., df[df > 0]\u001b[0m\u001b[0;34m\u001b[0m\u001b[0;34m\u001b[0m\u001b[0;34m\u001b[0m\u001b[0m\n\u001b[0;32m--> 198\u001b[0;31m                 \u001b[0;32mreturn\u001b[0m \u001b[0mself\u001b[0m\u001b[0;34m.\u001b[0m\u001b[0mtemps\u001b[0m\u001b[0;34m[\u001b[0m\u001b[0mkey\u001b[0m\u001b[0;34m]\u001b[0m\u001b[0;34m\u001b[0m\u001b[0;34m\u001b[0m\u001b[0m\n\u001b[0m\u001b[1;32m    199\u001b[0m             \u001b[0;32mexcept\u001b[0m \u001b[0mKeyError\u001b[0m\u001b[0;34m:\u001b[0m\u001b[0;34m\u001b[0m\u001b[0;34m\u001b[0m\u001b[0m\n",
      "\u001b[0;31mKeyError\u001b[0m: 'li01_11_base'",
      "\nDuring handling of the above exception, another exception occurred:\n",
      "\u001b[0;31mUndefinedVariableError\u001b[0m                    Traceback (most recent call last)",
      "\u001b[0;32m<ipython-input-158-10b963a858b5>\u001b[0m in \u001b[0;36m<module>\u001b[0;34m\u001b[0m\n\u001b[0;32m----> 1\u001b[0;31m \u001b[0mtemp\u001b[0m \u001b[0;34m=\u001b[0m \u001b[0mdistances\u001b[0m\u001b[0;34m.\u001b[0m\u001b[0mquery\u001b[0m\u001b[0;34m(\u001b[0m\u001b[0;34m'end !=`li01_11_base`'\u001b[0m\u001b[0;34m)\u001b[0m\u001b[0;34m\u001b[0m\u001b[0;34m\u001b[0m\u001b[0m\n\u001b[0m",
      "\u001b[0;32m~/anaconda3/lib/python3.7/site-packages/pandas/core/frame.py\u001b[0m in \u001b[0;36mquery\u001b[0;34m(self, expr, inplace, **kwargs)\u001b[0m\n\u001b[1;32m   3229\u001b[0m         \u001b[0mkwargs\u001b[0m\u001b[0;34m[\u001b[0m\u001b[0;34m\"level\"\u001b[0m\u001b[0;34m]\u001b[0m \u001b[0;34m=\u001b[0m \u001b[0mkwargs\u001b[0m\u001b[0;34m.\u001b[0m\u001b[0mpop\u001b[0m\u001b[0;34m(\u001b[0m\u001b[0;34m\"level\"\u001b[0m\u001b[0;34m,\u001b[0m \u001b[0;36m0\u001b[0m\u001b[0;34m)\u001b[0m \u001b[0;34m+\u001b[0m \u001b[0;36m1\u001b[0m\u001b[0;34m\u001b[0m\u001b[0;34m\u001b[0m\u001b[0m\n\u001b[1;32m   3230\u001b[0m         \u001b[0mkwargs\u001b[0m\u001b[0;34m[\u001b[0m\u001b[0;34m\"target\"\u001b[0m\u001b[0;34m]\u001b[0m \u001b[0;34m=\u001b[0m \u001b[0;32mNone\u001b[0m\u001b[0;34m\u001b[0m\u001b[0;34m\u001b[0m\u001b[0m\n\u001b[0;32m-> 3231\u001b[0;31m         \u001b[0mres\u001b[0m \u001b[0;34m=\u001b[0m \u001b[0mself\u001b[0m\u001b[0;34m.\u001b[0m\u001b[0meval\u001b[0m\u001b[0;34m(\u001b[0m\u001b[0mexpr\u001b[0m\u001b[0;34m,\u001b[0m \u001b[0;34m**\u001b[0m\u001b[0mkwargs\u001b[0m\u001b[0;34m)\u001b[0m\u001b[0;34m\u001b[0m\u001b[0;34m\u001b[0m\u001b[0m\n\u001b[0m\u001b[1;32m   3232\u001b[0m \u001b[0;34m\u001b[0m\u001b[0m\n\u001b[1;32m   3233\u001b[0m         \u001b[0;32mtry\u001b[0m\u001b[0;34m:\u001b[0m\u001b[0;34m\u001b[0m\u001b[0;34m\u001b[0m\u001b[0m\n",
      "\u001b[0;32m~/anaconda3/lib/python3.7/site-packages/pandas/core/frame.py\u001b[0m in \u001b[0;36meval\u001b[0;34m(self, expr, inplace, **kwargs)\u001b[0m\n\u001b[1;32m   3344\u001b[0m         \u001b[0mkwargs\u001b[0m\u001b[0;34m[\u001b[0m\u001b[0;34m\"resolvers\"\u001b[0m\u001b[0;34m]\u001b[0m \u001b[0;34m=\u001b[0m \u001b[0mkwargs\u001b[0m\u001b[0;34m.\u001b[0m\u001b[0mget\u001b[0m\u001b[0;34m(\u001b[0m\u001b[0;34m\"resolvers\"\u001b[0m\u001b[0;34m,\u001b[0m \u001b[0;34m(\u001b[0m\u001b[0;34m)\u001b[0m\u001b[0;34m)\u001b[0m \u001b[0;34m+\u001b[0m \u001b[0mtuple\u001b[0m\u001b[0;34m(\u001b[0m\u001b[0mresolvers\u001b[0m\u001b[0;34m)\u001b[0m\u001b[0;34m\u001b[0m\u001b[0;34m\u001b[0m\u001b[0m\n\u001b[1;32m   3345\u001b[0m \u001b[0;34m\u001b[0m\u001b[0m\n\u001b[0;32m-> 3346\u001b[0;31m         \u001b[0;32mreturn\u001b[0m \u001b[0m_eval\u001b[0m\u001b[0;34m(\u001b[0m\u001b[0mexpr\u001b[0m\u001b[0;34m,\u001b[0m \u001b[0minplace\u001b[0m\u001b[0;34m=\u001b[0m\u001b[0minplace\u001b[0m\u001b[0;34m,\u001b[0m \u001b[0;34m**\u001b[0m\u001b[0mkwargs\u001b[0m\u001b[0;34m)\u001b[0m\u001b[0;34m\u001b[0m\u001b[0;34m\u001b[0m\u001b[0m\n\u001b[0m\u001b[1;32m   3347\u001b[0m \u001b[0;34m\u001b[0m\u001b[0m\n\u001b[1;32m   3348\u001b[0m     \u001b[0;32mdef\u001b[0m \u001b[0mselect_dtypes\u001b[0m\u001b[0;34m(\u001b[0m\u001b[0mself\u001b[0m\u001b[0;34m,\u001b[0m \u001b[0minclude\u001b[0m\u001b[0;34m=\u001b[0m\u001b[0;32mNone\u001b[0m\u001b[0;34m,\u001b[0m \u001b[0mexclude\u001b[0m\u001b[0;34m=\u001b[0m\u001b[0;32mNone\u001b[0m\u001b[0;34m)\u001b[0m \u001b[0;34m->\u001b[0m \u001b[0;34m\"DataFrame\"\u001b[0m\u001b[0;34m:\u001b[0m\u001b[0;34m\u001b[0m\u001b[0;34m\u001b[0m\u001b[0m\n",
      "\u001b[0;32m~/anaconda3/lib/python3.7/site-packages/pandas/core/computation/eval.py\u001b[0m in \u001b[0;36meval\u001b[0;34m(expr, parser, engine, truediv, local_dict, global_dict, resolvers, level, target, inplace)\u001b[0m\n\u001b[1;32m    330\u001b[0m         )\n\u001b[1;32m    331\u001b[0m \u001b[0;34m\u001b[0m\u001b[0m\n\u001b[0;32m--> 332\u001b[0;31m         \u001b[0mparsed_expr\u001b[0m \u001b[0;34m=\u001b[0m \u001b[0mExpr\u001b[0m\u001b[0;34m(\u001b[0m\u001b[0mexpr\u001b[0m\u001b[0;34m,\u001b[0m \u001b[0mengine\u001b[0m\u001b[0;34m=\u001b[0m\u001b[0mengine\u001b[0m\u001b[0;34m,\u001b[0m \u001b[0mparser\u001b[0m\u001b[0;34m=\u001b[0m\u001b[0mparser\u001b[0m\u001b[0;34m,\u001b[0m \u001b[0menv\u001b[0m\u001b[0;34m=\u001b[0m\u001b[0menv\u001b[0m\u001b[0;34m)\u001b[0m\u001b[0;34m\u001b[0m\u001b[0;34m\u001b[0m\u001b[0m\n\u001b[0m\u001b[1;32m    333\u001b[0m \u001b[0;34m\u001b[0m\u001b[0m\n\u001b[1;32m    334\u001b[0m         \u001b[0;31m# construct the engine and evaluate the parsed expression\u001b[0m\u001b[0;34m\u001b[0m\u001b[0;34m\u001b[0m\u001b[0;34m\u001b[0m\u001b[0m\n",
      "\u001b[0;32m~/anaconda3/lib/python3.7/site-packages/pandas/core/computation/expr.py\u001b[0m in \u001b[0;36m__init__\u001b[0;34m(self, expr, engine, parser, env, level)\u001b[0m\n\u001b[1;32m    762\u001b[0m         \u001b[0mself\u001b[0m\u001b[0;34m.\u001b[0m\u001b[0mparser\u001b[0m \u001b[0;34m=\u001b[0m \u001b[0mparser\u001b[0m\u001b[0;34m\u001b[0m\u001b[0;34m\u001b[0m\u001b[0m\n\u001b[1;32m    763\u001b[0m         \u001b[0mself\u001b[0m\u001b[0;34m.\u001b[0m\u001b[0m_visitor\u001b[0m \u001b[0;34m=\u001b[0m \u001b[0m_parsers\u001b[0m\u001b[0;34m[\u001b[0m\u001b[0mparser\u001b[0m\u001b[0;34m]\u001b[0m\u001b[0;34m(\u001b[0m\u001b[0mself\u001b[0m\u001b[0;34m.\u001b[0m\u001b[0menv\u001b[0m\u001b[0;34m,\u001b[0m \u001b[0mself\u001b[0m\u001b[0;34m.\u001b[0m\u001b[0mengine\u001b[0m\u001b[0;34m,\u001b[0m \u001b[0mself\u001b[0m\u001b[0;34m.\u001b[0m\u001b[0mparser\u001b[0m\u001b[0;34m)\u001b[0m\u001b[0;34m\u001b[0m\u001b[0;34m\u001b[0m\u001b[0m\n\u001b[0;32m--> 764\u001b[0;31m         \u001b[0mself\u001b[0m\u001b[0;34m.\u001b[0m\u001b[0mterms\u001b[0m \u001b[0;34m=\u001b[0m \u001b[0mself\u001b[0m\u001b[0;34m.\u001b[0m\u001b[0mparse\u001b[0m\u001b[0;34m(\u001b[0m\u001b[0;34m)\u001b[0m\u001b[0;34m\u001b[0m\u001b[0;34m\u001b[0m\u001b[0m\n\u001b[0m\u001b[1;32m    765\u001b[0m \u001b[0;34m\u001b[0m\u001b[0m\n\u001b[1;32m    766\u001b[0m     \u001b[0;34m@\u001b[0m\u001b[0mproperty\u001b[0m\u001b[0;34m\u001b[0m\u001b[0;34m\u001b[0m\u001b[0m\n",
      "\u001b[0;32m~/anaconda3/lib/python3.7/site-packages/pandas/core/computation/expr.py\u001b[0m in \u001b[0;36mparse\u001b[0;34m(self)\u001b[0m\n\u001b[1;32m    779\u001b[0m     \u001b[0;32mdef\u001b[0m \u001b[0mparse\u001b[0m\u001b[0;34m(\u001b[0m\u001b[0mself\u001b[0m\u001b[0;34m)\u001b[0m\u001b[0;34m:\u001b[0m\u001b[0;34m\u001b[0m\u001b[0;34m\u001b[0m\u001b[0m\n\u001b[1;32m    780\u001b[0m         \u001b[0;34m\"\"\"Parse an expression\"\"\"\u001b[0m\u001b[0;34m\u001b[0m\u001b[0;34m\u001b[0m\u001b[0m\n\u001b[0;32m--> 781\u001b[0;31m         \u001b[0;32mreturn\u001b[0m \u001b[0mself\u001b[0m\u001b[0;34m.\u001b[0m\u001b[0m_visitor\u001b[0m\u001b[0;34m.\u001b[0m\u001b[0mvisit\u001b[0m\u001b[0;34m(\u001b[0m\u001b[0mself\u001b[0m\u001b[0;34m.\u001b[0m\u001b[0mexpr\u001b[0m\u001b[0;34m)\u001b[0m\u001b[0;34m\u001b[0m\u001b[0;34m\u001b[0m\u001b[0m\n\u001b[0m\u001b[1;32m    782\u001b[0m \u001b[0;34m\u001b[0m\u001b[0m\n\u001b[1;32m    783\u001b[0m     \u001b[0;34m@\u001b[0m\u001b[0mproperty\u001b[0m\u001b[0;34m\u001b[0m\u001b[0;34m\u001b[0m\u001b[0m\n",
      "\u001b[0;32m~/anaconda3/lib/python3.7/site-packages/pandas/core/computation/expr.py\u001b[0m in \u001b[0;36mvisit\u001b[0;34m(self, node, **kwargs)\u001b[0m\n\u001b[1;32m    373\u001b[0m         \u001b[0mmethod\u001b[0m \u001b[0;34m=\u001b[0m \u001b[0;34m\"visit_\"\u001b[0m \u001b[0;34m+\u001b[0m \u001b[0mtype\u001b[0m\u001b[0;34m(\u001b[0m\u001b[0mnode\u001b[0m\u001b[0;34m)\u001b[0m\u001b[0;34m.\u001b[0m\u001b[0m__name__\u001b[0m\u001b[0;34m\u001b[0m\u001b[0;34m\u001b[0m\u001b[0m\n\u001b[1;32m    374\u001b[0m         \u001b[0mvisitor\u001b[0m \u001b[0;34m=\u001b[0m \u001b[0mgetattr\u001b[0m\u001b[0;34m(\u001b[0m\u001b[0mself\u001b[0m\u001b[0;34m,\u001b[0m \u001b[0mmethod\u001b[0m\u001b[0;34m)\u001b[0m\u001b[0;34m\u001b[0m\u001b[0;34m\u001b[0m\u001b[0m\n\u001b[0;32m--> 375\u001b[0;31m         \u001b[0;32mreturn\u001b[0m \u001b[0mvisitor\u001b[0m\u001b[0;34m(\u001b[0m\u001b[0mnode\u001b[0m\u001b[0;34m,\u001b[0m \u001b[0;34m**\u001b[0m\u001b[0mkwargs\u001b[0m\u001b[0;34m)\u001b[0m\u001b[0;34m\u001b[0m\u001b[0;34m\u001b[0m\u001b[0m\n\u001b[0m\u001b[1;32m    376\u001b[0m \u001b[0;34m\u001b[0m\u001b[0m\n\u001b[1;32m    377\u001b[0m     \u001b[0;32mdef\u001b[0m \u001b[0mvisit_Module\u001b[0m\u001b[0;34m(\u001b[0m\u001b[0mself\u001b[0m\u001b[0;34m,\u001b[0m \u001b[0mnode\u001b[0m\u001b[0;34m,\u001b[0m \u001b[0;34m**\u001b[0m\u001b[0mkwargs\u001b[0m\u001b[0;34m)\u001b[0m\u001b[0;34m:\u001b[0m\u001b[0;34m\u001b[0m\u001b[0;34m\u001b[0m\u001b[0m\n",
      "\u001b[0;32m~/anaconda3/lib/python3.7/site-packages/pandas/core/computation/expr.py\u001b[0m in \u001b[0;36mvisit_Module\u001b[0;34m(self, node, **kwargs)\u001b[0m\n\u001b[1;32m    379\u001b[0m             \u001b[0;32mraise\u001b[0m \u001b[0mSyntaxError\u001b[0m\u001b[0;34m(\u001b[0m\u001b[0;34m\"only a single expression is allowed\"\u001b[0m\u001b[0;34m)\u001b[0m\u001b[0;34m\u001b[0m\u001b[0;34m\u001b[0m\u001b[0m\n\u001b[1;32m    380\u001b[0m         \u001b[0mexpr\u001b[0m \u001b[0;34m=\u001b[0m \u001b[0mnode\u001b[0m\u001b[0;34m.\u001b[0m\u001b[0mbody\u001b[0m\u001b[0;34m[\u001b[0m\u001b[0;36m0\u001b[0m\u001b[0;34m]\u001b[0m\u001b[0;34m\u001b[0m\u001b[0;34m\u001b[0m\u001b[0m\n\u001b[0;32m--> 381\u001b[0;31m         \u001b[0;32mreturn\u001b[0m \u001b[0mself\u001b[0m\u001b[0;34m.\u001b[0m\u001b[0mvisit\u001b[0m\u001b[0;34m(\u001b[0m\u001b[0mexpr\u001b[0m\u001b[0;34m,\u001b[0m \u001b[0;34m**\u001b[0m\u001b[0mkwargs\u001b[0m\u001b[0;34m)\u001b[0m\u001b[0;34m\u001b[0m\u001b[0;34m\u001b[0m\u001b[0m\n\u001b[0m\u001b[1;32m    382\u001b[0m \u001b[0;34m\u001b[0m\u001b[0m\n\u001b[1;32m    383\u001b[0m     \u001b[0;32mdef\u001b[0m \u001b[0mvisit_Expr\u001b[0m\u001b[0;34m(\u001b[0m\u001b[0mself\u001b[0m\u001b[0;34m,\u001b[0m \u001b[0mnode\u001b[0m\u001b[0;34m,\u001b[0m \u001b[0;34m**\u001b[0m\u001b[0mkwargs\u001b[0m\u001b[0;34m)\u001b[0m\u001b[0;34m:\u001b[0m\u001b[0;34m\u001b[0m\u001b[0;34m\u001b[0m\u001b[0m\n",
      "\u001b[0;32m~/anaconda3/lib/python3.7/site-packages/pandas/core/computation/expr.py\u001b[0m in \u001b[0;36mvisit\u001b[0;34m(self, node, **kwargs)\u001b[0m\n\u001b[1;32m    373\u001b[0m         \u001b[0mmethod\u001b[0m \u001b[0;34m=\u001b[0m \u001b[0;34m\"visit_\"\u001b[0m \u001b[0;34m+\u001b[0m \u001b[0mtype\u001b[0m\u001b[0;34m(\u001b[0m\u001b[0mnode\u001b[0m\u001b[0;34m)\u001b[0m\u001b[0;34m.\u001b[0m\u001b[0m__name__\u001b[0m\u001b[0;34m\u001b[0m\u001b[0;34m\u001b[0m\u001b[0m\n\u001b[1;32m    374\u001b[0m         \u001b[0mvisitor\u001b[0m \u001b[0;34m=\u001b[0m \u001b[0mgetattr\u001b[0m\u001b[0;34m(\u001b[0m\u001b[0mself\u001b[0m\u001b[0;34m,\u001b[0m \u001b[0mmethod\u001b[0m\u001b[0;34m)\u001b[0m\u001b[0;34m\u001b[0m\u001b[0;34m\u001b[0m\u001b[0m\n\u001b[0;32m--> 375\u001b[0;31m         \u001b[0;32mreturn\u001b[0m \u001b[0mvisitor\u001b[0m\u001b[0;34m(\u001b[0m\u001b[0mnode\u001b[0m\u001b[0;34m,\u001b[0m \u001b[0;34m**\u001b[0m\u001b[0mkwargs\u001b[0m\u001b[0;34m)\u001b[0m\u001b[0;34m\u001b[0m\u001b[0;34m\u001b[0m\u001b[0m\n\u001b[0m\u001b[1;32m    376\u001b[0m \u001b[0;34m\u001b[0m\u001b[0m\n\u001b[1;32m    377\u001b[0m     \u001b[0;32mdef\u001b[0m \u001b[0mvisit_Module\u001b[0m\u001b[0;34m(\u001b[0m\u001b[0mself\u001b[0m\u001b[0;34m,\u001b[0m \u001b[0mnode\u001b[0m\u001b[0;34m,\u001b[0m \u001b[0;34m**\u001b[0m\u001b[0mkwargs\u001b[0m\u001b[0;34m)\u001b[0m\u001b[0;34m:\u001b[0m\u001b[0;34m\u001b[0m\u001b[0;34m\u001b[0m\u001b[0m\n",
      "\u001b[0;32m~/anaconda3/lib/python3.7/site-packages/pandas/core/computation/expr.py\u001b[0m in \u001b[0;36mvisit_Expr\u001b[0;34m(self, node, **kwargs)\u001b[0m\n\u001b[1;32m    382\u001b[0m \u001b[0;34m\u001b[0m\u001b[0m\n\u001b[1;32m    383\u001b[0m     \u001b[0;32mdef\u001b[0m \u001b[0mvisit_Expr\u001b[0m\u001b[0;34m(\u001b[0m\u001b[0mself\u001b[0m\u001b[0;34m,\u001b[0m \u001b[0mnode\u001b[0m\u001b[0;34m,\u001b[0m \u001b[0;34m**\u001b[0m\u001b[0mkwargs\u001b[0m\u001b[0;34m)\u001b[0m\u001b[0;34m:\u001b[0m\u001b[0;34m\u001b[0m\u001b[0;34m\u001b[0m\u001b[0m\n\u001b[0;32m--> 384\u001b[0;31m         \u001b[0;32mreturn\u001b[0m \u001b[0mself\u001b[0m\u001b[0;34m.\u001b[0m\u001b[0mvisit\u001b[0m\u001b[0;34m(\u001b[0m\u001b[0mnode\u001b[0m\u001b[0;34m.\u001b[0m\u001b[0mvalue\u001b[0m\u001b[0;34m,\u001b[0m \u001b[0;34m**\u001b[0m\u001b[0mkwargs\u001b[0m\u001b[0;34m)\u001b[0m\u001b[0;34m\u001b[0m\u001b[0;34m\u001b[0m\u001b[0m\n\u001b[0m\u001b[1;32m    385\u001b[0m \u001b[0;34m\u001b[0m\u001b[0m\n\u001b[1;32m    386\u001b[0m     \u001b[0;32mdef\u001b[0m \u001b[0m_rewrite_membership_op\u001b[0m\u001b[0;34m(\u001b[0m\u001b[0mself\u001b[0m\u001b[0;34m,\u001b[0m \u001b[0mnode\u001b[0m\u001b[0;34m,\u001b[0m \u001b[0mleft\u001b[0m\u001b[0;34m,\u001b[0m \u001b[0mright\u001b[0m\u001b[0;34m)\u001b[0m\u001b[0;34m:\u001b[0m\u001b[0;34m\u001b[0m\u001b[0;34m\u001b[0m\u001b[0m\n",
      "\u001b[0;32m~/anaconda3/lib/python3.7/site-packages/pandas/core/computation/expr.py\u001b[0m in \u001b[0;36mvisit\u001b[0;34m(self, node, **kwargs)\u001b[0m\n\u001b[1;32m    373\u001b[0m         \u001b[0mmethod\u001b[0m \u001b[0;34m=\u001b[0m \u001b[0;34m\"visit_\"\u001b[0m \u001b[0;34m+\u001b[0m \u001b[0mtype\u001b[0m\u001b[0;34m(\u001b[0m\u001b[0mnode\u001b[0m\u001b[0;34m)\u001b[0m\u001b[0;34m.\u001b[0m\u001b[0m__name__\u001b[0m\u001b[0;34m\u001b[0m\u001b[0;34m\u001b[0m\u001b[0m\n\u001b[1;32m    374\u001b[0m         \u001b[0mvisitor\u001b[0m \u001b[0;34m=\u001b[0m \u001b[0mgetattr\u001b[0m\u001b[0;34m(\u001b[0m\u001b[0mself\u001b[0m\u001b[0;34m,\u001b[0m \u001b[0mmethod\u001b[0m\u001b[0;34m)\u001b[0m\u001b[0;34m\u001b[0m\u001b[0;34m\u001b[0m\u001b[0m\n\u001b[0;32m--> 375\u001b[0;31m         \u001b[0;32mreturn\u001b[0m \u001b[0mvisitor\u001b[0m\u001b[0;34m(\u001b[0m\u001b[0mnode\u001b[0m\u001b[0;34m,\u001b[0m \u001b[0;34m**\u001b[0m\u001b[0mkwargs\u001b[0m\u001b[0;34m)\u001b[0m\u001b[0;34m\u001b[0m\u001b[0;34m\u001b[0m\u001b[0m\n\u001b[0m\u001b[1;32m    376\u001b[0m \u001b[0;34m\u001b[0m\u001b[0m\n\u001b[1;32m    377\u001b[0m     \u001b[0;32mdef\u001b[0m \u001b[0mvisit_Module\u001b[0m\u001b[0;34m(\u001b[0m\u001b[0mself\u001b[0m\u001b[0;34m,\u001b[0m \u001b[0mnode\u001b[0m\u001b[0;34m,\u001b[0m \u001b[0;34m**\u001b[0m\u001b[0mkwargs\u001b[0m\u001b[0;34m)\u001b[0m\u001b[0;34m:\u001b[0m\u001b[0;34m\u001b[0m\u001b[0;34m\u001b[0m\u001b[0m\n",
      "\u001b[0;32m~/anaconda3/lib/python3.7/site-packages/pandas/core/computation/expr.py\u001b[0m in \u001b[0;36mvisit_Compare\u001b[0;34m(self, node, **kwargs)\u001b[0m\n\u001b[1;32m    674\u001b[0m             \u001b[0mop\u001b[0m \u001b[0;34m=\u001b[0m \u001b[0mself\u001b[0m\u001b[0;34m.\u001b[0m\u001b[0mtranslate_In\u001b[0m\u001b[0;34m(\u001b[0m\u001b[0mops\u001b[0m\u001b[0;34m[\u001b[0m\u001b[0;36m0\u001b[0m\u001b[0;34m]\u001b[0m\u001b[0;34m)\u001b[0m\u001b[0;34m\u001b[0m\u001b[0;34m\u001b[0m\u001b[0m\n\u001b[1;32m    675\u001b[0m             \u001b[0mbinop\u001b[0m \u001b[0;34m=\u001b[0m \u001b[0mast\u001b[0m\u001b[0;34m.\u001b[0m\u001b[0mBinOp\u001b[0m\u001b[0;34m(\u001b[0m\u001b[0mop\u001b[0m\u001b[0;34m=\u001b[0m\u001b[0mop\u001b[0m\u001b[0;34m,\u001b[0m \u001b[0mleft\u001b[0m\u001b[0;34m=\u001b[0m\u001b[0mnode\u001b[0m\u001b[0;34m.\u001b[0m\u001b[0mleft\u001b[0m\u001b[0;34m,\u001b[0m \u001b[0mright\u001b[0m\u001b[0;34m=\u001b[0m\u001b[0mcomps\u001b[0m\u001b[0;34m[\u001b[0m\u001b[0;36m0\u001b[0m\u001b[0;34m]\u001b[0m\u001b[0;34m)\u001b[0m\u001b[0;34m\u001b[0m\u001b[0;34m\u001b[0m\u001b[0m\n\u001b[0;32m--> 676\u001b[0;31m             \u001b[0;32mreturn\u001b[0m \u001b[0mself\u001b[0m\u001b[0;34m.\u001b[0m\u001b[0mvisit\u001b[0m\u001b[0;34m(\u001b[0m\u001b[0mbinop\u001b[0m\u001b[0;34m)\u001b[0m\u001b[0;34m\u001b[0m\u001b[0;34m\u001b[0m\u001b[0m\n\u001b[0m\u001b[1;32m    677\u001b[0m \u001b[0;34m\u001b[0m\u001b[0m\n\u001b[1;32m    678\u001b[0m         \u001b[0;31m# recursive case: we have a chained comparison, a CMP b CMP c, etc.\u001b[0m\u001b[0;34m\u001b[0m\u001b[0;34m\u001b[0m\u001b[0;34m\u001b[0m\u001b[0m\n",
      "\u001b[0;32m~/anaconda3/lib/python3.7/site-packages/pandas/core/computation/expr.py\u001b[0m in \u001b[0;36mvisit\u001b[0;34m(self, node, **kwargs)\u001b[0m\n\u001b[1;32m    373\u001b[0m         \u001b[0mmethod\u001b[0m \u001b[0;34m=\u001b[0m \u001b[0;34m\"visit_\"\u001b[0m \u001b[0;34m+\u001b[0m \u001b[0mtype\u001b[0m\u001b[0;34m(\u001b[0m\u001b[0mnode\u001b[0m\u001b[0;34m)\u001b[0m\u001b[0;34m.\u001b[0m\u001b[0m__name__\u001b[0m\u001b[0;34m\u001b[0m\u001b[0;34m\u001b[0m\u001b[0m\n\u001b[1;32m    374\u001b[0m         \u001b[0mvisitor\u001b[0m \u001b[0;34m=\u001b[0m \u001b[0mgetattr\u001b[0m\u001b[0;34m(\u001b[0m\u001b[0mself\u001b[0m\u001b[0;34m,\u001b[0m \u001b[0mmethod\u001b[0m\u001b[0;34m)\u001b[0m\u001b[0;34m\u001b[0m\u001b[0;34m\u001b[0m\u001b[0m\n\u001b[0;32m--> 375\u001b[0;31m         \u001b[0;32mreturn\u001b[0m \u001b[0mvisitor\u001b[0m\u001b[0;34m(\u001b[0m\u001b[0mnode\u001b[0m\u001b[0;34m,\u001b[0m \u001b[0;34m**\u001b[0m\u001b[0mkwargs\u001b[0m\u001b[0;34m)\u001b[0m\u001b[0;34m\u001b[0m\u001b[0;34m\u001b[0m\u001b[0m\n\u001b[0m\u001b[1;32m    376\u001b[0m \u001b[0;34m\u001b[0m\u001b[0m\n\u001b[1;32m    377\u001b[0m     \u001b[0;32mdef\u001b[0m \u001b[0mvisit_Module\u001b[0m\u001b[0;34m(\u001b[0m\u001b[0mself\u001b[0m\u001b[0;34m,\u001b[0m \u001b[0mnode\u001b[0m\u001b[0;34m,\u001b[0m \u001b[0;34m**\u001b[0m\u001b[0mkwargs\u001b[0m\u001b[0;34m)\u001b[0m\u001b[0;34m:\u001b[0m\u001b[0;34m\u001b[0m\u001b[0;34m\u001b[0m\u001b[0m\n",
      "\u001b[0;32m~/anaconda3/lib/python3.7/site-packages/pandas/core/computation/expr.py\u001b[0m in \u001b[0;36mvisit_BinOp\u001b[0;34m(self, node, **kwargs)\u001b[0m\n\u001b[1;32m    495\u001b[0m \u001b[0;34m\u001b[0m\u001b[0m\n\u001b[1;32m    496\u001b[0m     \u001b[0;32mdef\u001b[0m \u001b[0mvisit_BinOp\u001b[0m\u001b[0;34m(\u001b[0m\u001b[0mself\u001b[0m\u001b[0;34m,\u001b[0m \u001b[0mnode\u001b[0m\u001b[0;34m,\u001b[0m \u001b[0;34m**\u001b[0m\u001b[0mkwargs\u001b[0m\u001b[0;34m)\u001b[0m\u001b[0;34m:\u001b[0m\u001b[0;34m\u001b[0m\u001b[0;34m\u001b[0m\u001b[0m\n\u001b[0;32m--> 497\u001b[0;31m         \u001b[0mop\u001b[0m\u001b[0;34m,\u001b[0m \u001b[0mop_class\u001b[0m\u001b[0;34m,\u001b[0m \u001b[0mleft\u001b[0m\u001b[0;34m,\u001b[0m \u001b[0mright\u001b[0m \u001b[0;34m=\u001b[0m \u001b[0mself\u001b[0m\u001b[0;34m.\u001b[0m\u001b[0m_maybe_transform_eq_ne\u001b[0m\u001b[0;34m(\u001b[0m\u001b[0mnode\u001b[0m\u001b[0;34m)\u001b[0m\u001b[0;34m\u001b[0m\u001b[0;34m\u001b[0m\u001b[0m\n\u001b[0m\u001b[1;32m    498\u001b[0m         \u001b[0mleft\u001b[0m\u001b[0;34m,\u001b[0m \u001b[0mright\u001b[0m \u001b[0;34m=\u001b[0m \u001b[0mself\u001b[0m\u001b[0;34m.\u001b[0m\u001b[0m_maybe_downcast_constants\u001b[0m\u001b[0;34m(\u001b[0m\u001b[0mleft\u001b[0m\u001b[0;34m,\u001b[0m \u001b[0mright\u001b[0m\u001b[0;34m)\u001b[0m\u001b[0;34m\u001b[0m\u001b[0;34m\u001b[0m\u001b[0m\n\u001b[1;32m    499\u001b[0m         \u001b[0;32mreturn\u001b[0m \u001b[0mself\u001b[0m\u001b[0;34m.\u001b[0m\u001b[0m_maybe_evaluate_binop\u001b[0m\u001b[0;34m(\u001b[0m\u001b[0mop\u001b[0m\u001b[0;34m,\u001b[0m \u001b[0mop_class\u001b[0m\u001b[0;34m,\u001b[0m \u001b[0mleft\u001b[0m\u001b[0;34m,\u001b[0m \u001b[0mright\u001b[0m\u001b[0;34m)\u001b[0m\u001b[0;34m\u001b[0m\u001b[0;34m\u001b[0m\u001b[0m\n",
      "\u001b[0;32m~/anaconda3/lib/python3.7/site-packages/pandas/core/computation/expr.py\u001b[0m in \u001b[0;36m_maybe_transform_eq_ne\u001b[0;34m(self, node, left, right)\u001b[0m\n\u001b[1;32m    416\u001b[0m             \u001b[0mleft\u001b[0m \u001b[0;34m=\u001b[0m \u001b[0mself\u001b[0m\u001b[0;34m.\u001b[0m\u001b[0mvisit\u001b[0m\u001b[0;34m(\u001b[0m\u001b[0mnode\u001b[0m\u001b[0;34m.\u001b[0m\u001b[0mleft\u001b[0m\u001b[0;34m,\u001b[0m \u001b[0mside\u001b[0m\u001b[0;34m=\u001b[0m\u001b[0;34m\"left\"\u001b[0m\u001b[0;34m)\u001b[0m\u001b[0;34m\u001b[0m\u001b[0;34m\u001b[0m\u001b[0m\n\u001b[1;32m    417\u001b[0m         \u001b[0;32mif\u001b[0m \u001b[0mright\u001b[0m \u001b[0;32mis\u001b[0m \u001b[0;32mNone\u001b[0m\u001b[0;34m:\u001b[0m\u001b[0;34m\u001b[0m\u001b[0;34m\u001b[0m\u001b[0m\n\u001b[0;32m--> 418\u001b[0;31m             \u001b[0mright\u001b[0m \u001b[0;34m=\u001b[0m \u001b[0mself\u001b[0m\u001b[0;34m.\u001b[0m\u001b[0mvisit\u001b[0m\u001b[0;34m(\u001b[0m\u001b[0mnode\u001b[0m\u001b[0;34m.\u001b[0m\u001b[0mright\u001b[0m\u001b[0;34m,\u001b[0m \u001b[0mside\u001b[0m\u001b[0;34m=\u001b[0m\u001b[0;34m\"right\"\u001b[0m\u001b[0;34m)\u001b[0m\u001b[0;34m\u001b[0m\u001b[0;34m\u001b[0m\u001b[0m\n\u001b[0m\u001b[1;32m    419\u001b[0m         \u001b[0mop\u001b[0m\u001b[0;34m,\u001b[0m \u001b[0mop_class\u001b[0m\u001b[0;34m,\u001b[0m \u001b[0mleft\u001b[0m\u001b[0;34m,\u001b[0m \u001b[0mright\u001b[0m \u001b[0;34m=\u001b[0m \u001b[0mself\u001b[0m\u001b[0;34m.\u001b[0m\u001b[0m_rewrite_membership_op\u001b[0m\u001b[0;34m(\u001b[0m\u001b[0mnode\u001b[0m\u001b[0;34m,\u001b[0m \u001b[0mleft\u001b[0m\u001b[0;34m,\u001b[0m \u001b[0mright\u001b[0m\u001b[0;34m)\u001b[0m\u001b[0;34m\u001b[0m\u001b[0;34m\u001b[0m\u001b[0m\n\u001b[1;32m    420\u001b[0m         \u001b[0;32mreturn\u001b[0m \u001b[0mop\u001b[0m\u001b[0;34m,\u001b[0m \u001b[0mop_class\u001b[0m\u001b[0;34m,\u001b[0m \u001b[0mleft\u001b[0m\u001b[0;34m,\u001b[0m \u001b[0mright\u001b[0m\u001b[0;34m\u001b[0m\u001b[0;34m\u001b[0m\u001b[0m\n",
      "\u001b[0;32m~/anaconda3/lib/python3.7/site-packages/pandas/core/computation/expr.py\u001b[0m in \u001b[0;36mvisit\u001b[0;34m(self, node, **kwargs)\u001b[0m\n\u001b[1;32m    373\u001b[0m         \u001b[0mmethod\u001b[0m \u001b[0;34m=\u001b[0m \u001b[0;34m\"visit_\"\u001b[0m \u001b[0;34m+\u001b[0m \u001b[0mtype\u001b[0m\u001b[0;34m(\u001b[0m\u001b[0mnode\u001b[0m\u001b[0;34m)\u001b[0m\u001b[0;34m.\u001b[0m\u001b[0m__name__\u001b[0m\u001b[0;34m\u001b[0m\u001b[0;34m\u001b[0m\u001b[0m\n\u001b[1;32m    374\u001b[0m         \u001b[0mvisitor\u001b[0m \u001b[0;34m=\u001b[0m \u001b[0mgetattr\u001b[0m\u001b[0;34m(\u001b[0m\u001b[0mself\u001b[0m\u001b[0;34m,\u001b[0m \u001b[0mmethod\u001b[0m\u001b[0;34m)\u001b[0m\u001b[0;34m\u001b[0m\u001b[0;34m\u001b[0m\u001b[0m\n\u001b[0;32m--> 375\u001b[0;31m         \u001b[0;32mreturn\u001b[0m \u001b[0mvisitor\u001b[0m\u001b[0;34m(\u001b[0m\u001b[0mnode\u001b[0m\u001b[0;34m,\u001b[0m \u001b[0;34m**\u001b[0m\u001b[0mkwargs\u001b[0m\u001b[0;34m)\u001b[0m\u001b[0;34m\u001b[0m\u001b[0;34m\u001b[0m\u001b[0m\n\u001b[0m\u001b[1;32m    376\u001b[0m \u001b[0;34m\u001b[0m\u001b[0m\n\u001b[1;32m    377\u001b[0m     \u001b[0;32mdef\u001b[0m \u001b[0mvisit_Module\u001b[0m\u001b[0;34m(\u001b[0m\u001b[0mself\u001b[0m\u001b[0;34m,\u001b[0m \u001b[0mnode\u001b[0m\u001b[0;34m,\u001b[0m \u001b[0;34m**\u001b[0m\u001b[0mkwargs\u001b[0m\u001b[0;34m)\u001b[0m\u001b[0;34m:\u001b[0m\u001b[0;34m\u001b[0m\u001b[0;34m\u001b[0m\u001b[0m\n",
      "\u001b[0;32m~/anaconda3/lib/python3.7/site-packages/pandas/core/computation/expr.py\u001b[0m in \u001b[0;36mvisit_Name\u001b[0;34m(self, node, **kwargs)\u001b[0m\n\u001b[1;32m    508\u001b[0m \u001b[0;34m\u001b[0m\u001b[0m\n\u001b[1;32m    509\u001b[0m     \u001b[0;32mdef\u001b[0m \u001b[0mvisit_Name\u001b[0m\u001b[0;34m(\u001b[0m\u001b[0mself\u001b[0m\u001b[0;34m,\u001b[0m \u001b[0mnode\u001b[0m\u001b[0;34m,\u001b[0m \u001b[0;34m**\u001b[0m\u001b[0mkwargs\u001b[0m\u001b[0;34m)\u001b[0m\u001b[0;34m:\u001b[0m\u001b[0;34m\u001b[0m\u001b[0;34m\u001b[0m\u001b[0m\n\u001b[0;32m--> 510\u001b[0;31m         \u001b[0;32mreturn\u001b[0m \u001b[0mself\u001b[0m\u001b[0;34m.\u001b[0m\u001b[0mterm_type\u001b[0m\u001b[0;34m(\u001b[0m\u001b[0mnode\u001b[0m\u001b[0;34m.\u001b[0m\u001b[0mid\u001b[0m\u001b[0;34m,\u001b[0m \u001b[0mself\u001b[0m\u001b[0;34m.\u001b[0m\u001b[0menv\u001b[0m\u001b[0;34m,\u001b[0m \u001b[0;34m**\u001b[0m\u001b[0mkwargs\u001b[0m\u001b[0;34m)\u001b[0m\u001b[0;34m\u001b[0m\u001b[0;34m\u001b[0m\u001b[0m\n\u001b[0m\u001b[1;32m    511\u001b[0m \u001b[0;34m\u001b[0m\u001b[0m\n\u001b[1;32m    512\u001b[0m     \u001b[0;32mdef\u001b[0m \u001b[0mvisit_NameConstant\u001b[0m\u001b[0;34m(\u001b[0m\u001b[0mself\u001b[0m\u001b[0;34m,\u001b[0m \u001b[0mnode\u001b[0m\u001b[0;34m,\u001b[0m \u001b[0;34m**\u001b[0m\u001b[0mkwargs\u001b[0m\u001b[0;34m)\u001b[0m\u001b[0;34m:\u001b[0m\u001b[0;34m\u001b[0m\u001b[0;34m\u001b[0m\u001b[0m\n",
      "\u001b[0;32m~/anaconda3/lib/python3.7/site-packages/pandas/core/computation/ops.py\u001b[0m in \u001b[0;36m__init__\u001b[0;34m(self, name, env, side, encoding)\u001b[0m\n\u001b[1;32m     80\u001b[0m         \u001b[0mtname\u001b[0m \u001b[0;34m=\u001b[0m \u001b[0mstr\u001b[0m\u001b[0;34m(\u001b[0m\u001b[0mname\u001b[0m\u001b[0;34m)\u001b[0m\u001b[0;34m\u001b[0m\u001b[0;34m\u001b[0m\u001b[0m\n\u001b[1;32m     81\u001b[0m         \u001b[0mself\u001b[0m\u001b[0;34m.\u001b[0m\u001b[0mis_local\u001b[0m \u001b[0;34m=\u001b[0m \u001b[0mtname\u001b[0m\u001b[0;34m.\u001b[0m\u001b[0mstartswith\u001b[0m\u001b[0;34m(\u001b[0m\u001b[0m_LOCAL_TAG\u001b[0m\u001b[0;34m)\u001b[0m \u001b[0;32mor\u001b[0m \u001b[0mtname\u001b[0m \u001b[0;32min\u001b[0m \u001b[0m_DEFAULT_GLOBALS\u001b[0m\u001b[0;34m\u001b[0m\u001b[0;34m\u001b[0m\u001b[0m\n\u001b[0;32m---> 82\u001b[0;31m         \u001b[0mself\u001b[0m\u001b[0;34m.\u001b[0m\u001b[0m_value\u001b[0m \u001b[0;34m=\u001b[0m \u001b[0mself\u001b[0m\u001b[0;34m.\u001b[0m\u001b[0m_resolve_name\u001b[0m\u001b[0;34m(\u001b[0m\u001b[0;34m)\u001b[0m\u001b[0;34m\u001b[0m\u001b[0;34m\u001b[0m\u001b[0m\n\u001b[0m\u001b[1;32m     83\u001b[0m         \u001b[0mself\u001b[0m\u001b[0;34m.\u001b[0m\u001b[0mencoding\u001b[0m \u001b[0;34m=\u001b[0m \u001b[0mencoding\u001b[0m\u001b[0;34m\u001b[0m\u001b[0;34m\u001b[0m\u001b[0m\n\u001b[1;32m     84\u001b[0m \u001b[0;34m\u001b[0m\u001b[0m\n",
      "\u001b[0;32m~/anaconda3/lib/python3.7/site-packages/pandas/core/computation/ops.py\u001b[0m in \u001b[0;36m_resolve_name\u001b[0;34m(self)\u001b[0m\n\u001b[1;32m     97\u001b[0m \u001b[0;34m\u001b[0m\u001b[0m\n\u001b[1;32m     98\u001b[0m     \u001b[0;32mdef\u001b[0m \u001b[0m_resolve_name\u001b[0m\u001b[0;34m(\u001b[0m\u001b[0mself\u001b[0m\u001b[0;34m)\u001b[0m\u001b[0;34m:\u001b[0m\u001b[0;34m\u001b[0m\u001b[0;34m\u001b[0m\u001b[0m\n\u001b[0;32m---> 99\u001b[0;31m         \u001b[0mres\u001b[0m \u001b[0;34m=\u001b[0m \u001b[0mself\u001b[0m\u001b[0;34m.\u001b[0m\u001b[0menv\u001b[0m\u001b[0;34m.\u001b[0m\u001b[0mresolve\u001b[0m\u001b[0;34m(\u001b[0m\u001b[0mself\u001b[0m\u001b[0;34m.\u001b[0m\u001b[0mlocal_name\u001b[0m\u001b[0;34m,\u001b[0m \u001b[0mis_local\u001b[0m\u001b[0;34m=\u001b[0m\u001b[0mself\u001b[0m\u001b[0;34m.\u001b[0m\u001b[0mis_local\u001b[0m\u001b[0;34m)\u001b[0m\u001b[0;34m\u001b[0m\u001b[0;34m\u001b[0m\u001b[0m\n\u001b[0m\u001b[1;32m    100\u001b[0m         \u001b[0mself\u001b[0m\u001b[0;34m.\u001b[0m\u001b[0mupdate\u001b[0m\u001b[0;34m(\u001b[0m\u001b[0mres\u001b[0m\u001b[0;34m)\u001b[0m\u001b[0;34m\u001b[0m\u001b[0;34m\u001b[0m\u001b[0m\n\u001b[1;32m    101\u001b[0m \u001b[0;34m\u001b[0m\u001b[0m\n",
      "\u001b[0;32m~/anaconda3/lib/python3.7/site-packages/pandas/core/computation/scope.py\u001b[0m in \u001b[0;36mresolve\u001b[0;34m(self, key, is_local)\u001b[0m\n\u001b[1;32m    201\u001b[0m                 \u001b[0;32mfrom\u001b[0m \u001b[0mpandas\u001b[0m\u001b[0;34m.\u001b[0m\u001b[0mcore\u001b[0m\u001b[0;34m.\u001b[0m\u001b[0mcomputation\u001b[0m\u001b[0;34m.\u001b[0m\u001b[0mops\u001b[0m \u001b[0;32mimport\u001b[0m \u001b[0mUndefinedVariableError\u001b[0m\u001b[0;34m\u001b[0m\u001b[0;34m\u001b[0m\u001b[0m\n\u001b[1;32m    202\u001b[0m \u001b[0;34m\u001b[0m\u001b[0m\n\u001b[0;32m--> 203\u001b[0;31m                 \u001b[0;32mraise\u001b[0m \u001b[0mUndefinedVariableError\u001b[0m\u001b[0;34m(\u001b[0m\u001b[0mkey\u001b[0m\u001b[0;34m,\u001b[0m \u001b[0mis_local\u001b[0m\u001b[0;34m)\u001b[0m\u001b[0;34m\u001b[0m\u001b[0;34m\u001b[0m\u001b[0m\n\u001b[0m\u001b[1;32m    204\u001b[0m \u001b[0;34m\u001b[0m\u001b[0m\n\u001b[1;32m    205\u001b[0m     \u001b[0;32mdef\u001b[0m \u001b[0mswapkey\u001b[0m\u001b[0;34m(\u001b[0m\u001b[0mself\u001b[0m\u001b[0;34m,\u001b[0m \u001b[0mold_key\u001b[0m\u001b[0;34m:\u001b[0m \u001b[0mstr\u001b[0m\u001b[0;34m,\u001b[0m \u001b[0mnew_key\u001b[0m\u001b[0;34m:\u001b[0m \u001b[0mstr\u001b[0m\u001b[0;34m,\u001b[0m \u001b[0mnew_value\u001b[0m\u001b[0;34m=\u001b[0m\u001b[0;32mNone\u001b[0m\u001b[0;34m)\u001b[0m\u001b[0;34m:\u001b[0m\u001b[0;34m\u001b[0m\u001b[0;34m\u001b[0m\u001b[0m\n",
      "\u001b[0;31mUndefinedVariableError\u001b[0m: name 'li01_11_base' is not defined"
     ]
    }
   ],
   "source": [
    "temp = distances.query('end !=`li01_01_base`')"
   ]
  },
  {
   "cell_type": "code",
   "execution_count": 150,
   "metadata": {
    "ExecuteTime": {
     "end_time": "2020-04-14T20:54:37.019254Z",
     "start_time": "2020-04-14T20:54:36.995321Z"
    }
   },
   "outputs": [
    {
     "data": {
      "text/html": [
       "<div>\n",
       "<style scoped>\n",
       "    .dataframe tbody tr th:only-of-type {\n",
       "        vertical-align: middle;\n",
       "    }\n",
       "\n",
       "    .dataframe tbody tr th {\n",
       "        vertical-align: top;\n",
       "    }\n",
       "\n",
       "    .dataframe thead th {\n",
       "        text-align: right;\n",
       "    }\n",
       "</style>\n",
       "<table border=\"1\" class=\"dataframe\">\n",
       "  <thead>\n",
       "    <tr style=\"text-align: right;\">\n",
       "      <th></th>\n",
       "      <th>start</th>\n",
       "      <th>end</th>\n",
       "      <th>time</th>\n",
       "    </tr>\n",
       "  </thead>\n",
       "  <tbody>\n",
       "    <tr>\n",
       "      <th>167</th>\n",
       "      <td>li01_01_base</td>\n",
       "      <td>li01_11_base</td>\n",
       "      <td>57793</td>\n",
       "    </tr>\n",
       "    <tr>\n",
       "      <th>169</th>\n",
       "      <td>li01_01_base</td>\n",
       "      <td>li01_03_base</td>\n",
       "      <td>112860</td>\n",
       "    </tr>\n",
       "    <tr>\n",
       "      <th>170</th>\n",
       "      <td>li01_01_base</td>\n",
       "      <td>li01_09_base</td>\n",
       "      <td>54425</td>\n",
       "    </tr>\n",
       "    <tr>\n",
       "      <th>171</th>\n",
       "      <td>li01_01_base</td>\n",
       "      <td>li01_12_base</td>\n",
       "      <td>232530</td>\n",
       "    </tr>\n",
       "    <tr>\n",
       "      <th>172</th>\n",
       "      <td>li01_01_base</td>\n",
       "      <td>li01_10_base</td>\n",
       "      <td>69365</td>\n",
       "    </tr>\n",
       "    <tr>\n",
       "      <th>...</th>\n",
       "      <td>...</td>\n",
       "      <td>...</td>\n",
       "      <td>...</td>\n",
       "    </tr>\n",
       "    <tr>\n",
       "      <th>328</th>\n",
       "      <td>li01_01_base</td>\n",
       "      <td>hi01_01_base</td>\n",
       "      <td>1068056</td>\n",
       "    </tr>\n",
       "    <tr>\n",
       "      <th>329</th>\n",
       "      <td>li01_01_base</td>\n",
       "      <td>hi02_01_base</td>\n",
       "      <td>1025374</td>\n",
       "    </tr>\n",
       "    <tr>\n",
       "      <th>330</th>\n",
       "      <td>li01_01_base</td>\n",
       "      <td>hi02_02_base</td>\n",
       "      <td>975856</td>\n",
       "    </tr>\n",
       "    <tr>\n",
       "      <th>332</th>\n",
       "      <td>li01_01_base</td>\n",
       "      <td>ew06_01_base</td>\n",
       "      <td>1221069</td>\n",
       "    </tr>\n",
       "    <tr>\n",
       "      <th>333</th>\n",
       "      <td>li01_01_base</td>\n",
       "      <td>ew06_02_base</td>\n",
       "      <td>1219073</td>\n",
       "    </tr>\n",
       "  </tbody>\n",
       "</table>\n",
       "<p>165 rows × 3 columns</p>\n",
       "</div>"
      ],
      "text/plain": [
       "            start           end     time\n",
       "167  li01_01_base  li01_11_base    57793\n",
       "169  li01_01_base  li01_03_base   112860\n",
       "170  li01_01_base  li01_09_base    54425\n",
       "171  li01_01_base  li01_12_base   232530\n",
       "172  li01_01_base  li01_10_base    69365\n",
       "..            ...           ...      ...\n",
       "328  li01_01_base  hi01_01_base  1068056\n",
       "329  li01_01_base  hi02_01_base  1025374\n",
       "330  li01_01_base  hi02_02_base   975856\n",
       "332  li01_01_base  ew06_01_base  1221069\n",
       "333  li01_01_base  ew06_02_base  1219073\n",
       "\n",
       "[165 rows x 3 columns]"
      ]
     },
     "execution_count": 150,
     "metadata": {},
     "output_type": "execute_result"
    }
   ],
   "source": [
    "[[distances[distances['start'] == i] for i in list_of_bases]"
   ]
  },
  {
   "cell_type": "code",
   "execution_count": 11,
   "metadata": {
    "ExecuteTime": {
     "end_time": "2020-04-16T21:59:10.241835Z",
     "start_time": "2020-04-16T21:59:10.211108Z"
    }
   },
   "outputs": [
    {
     "data": {
      "text/plain": [
       "{'base_code': 'Br01_02_base\\n',\n",
       " 'Name': ';Southampton Shipyard\\n',\n",
       " 'commodities': [[0.0, -1.0, 0.0, 0.0, 1.0, 1.104, 'commodity_ablativearmor,'],\n",
       "  [0.0, -1.0, 0.0, 0.0, 1.0, 2.31, 'commodity_aluminium,'],\n",
       "  [0.0, -1.0, 0.0, 0.0, 1.0, 1.0, 'commodity_ambassadors,'],\n",
       "  [0.0, -1.0, 0.0, 0.0, 1.0, 1.0, 'commodity_arbiters,'],\n",
       "  [0.0, -1.0, 0.0, 0.0, 1.0, 1.45, 'commodity_basic_alloys,'],\n",
       "  [0.0, -1.0, 0.0, 0.0, 1.0, 2.21, 'commodity_beryllium,'],\n",
       "  [0.0, -1.0, 0.0, 0.0, 1.0, 2.25, 'commodity_beryllium_ca,'],\n",
       "  [0.0, -1.0, 0.0, 0.0, 1.0, 1.26, 'commodity_bioprocessors,'],\n",
       "  [0.0, -1.0, 0.0, 0.0, 1.0, 1.096, 'commodity_bluediamonds,'],\n",
       "  [0.0, -1.0, 0.0, 0.0, 1.0, 2.05, 'commodity_bluejillies,'],\n",
       "  [0.0, -1.0, 0.0, 0.0, 1.0, 2.05, 'commodity_boron,'],\n",
       "  [0.0, -1.0, 0.0, 0.0, 1.0, 2.17, 'commodity_cobalt,'],\n",
       "  [0.0, -1.0, 0.0, 0.0, 1.0, 2.77, 'commodity_construction_machinery,'],\n",
       "  [0.0, -1.0, 0.0, 0.0, 1.0, 3.12, 'commodity_consumer_goods_br,'],\n",
       "  [0.0, -1.0, 0.0, 0.0, 1.0, 2.17, 'commodity_copper,'],\n",
       "  [0.0, -1.0, 0.0, 0.0, 1.0, 1.0, 'commodity_courtiers,'],\n",
       "  [0.0, -1.0, 150.0, 500.0, 0.0, 1.0, 'commodity_crew,'],\n",
       "  [0.0, -1.0, 0.0, 0.0, 1.0, 2.216, 'commodity_cryocubes,'],\n",
       "  [0.0, -1.0, 0.0, 0.0, 1.0, 1.098, 'commodity_deuterium,'],\n",
       "  [0.0, -1.0, 0.0, 0.0, 1.0, 2.2, 'commodity_diamonds,'],\n",
       "  [0.0, -1.0, 0.0, 0.0, 1.0, 1.0, 'commodity_diplomats,'],\n",
       "  [0.0, -1.0, 0.0, 0.0, 1.0, 1.0, 'commodity_emissaries,'],\n",
       "  [0.0, -1.0, 0.0, 0.0, 1.0, 1.505, 'commodity_energy_field_equip,'],\n",
       "  [0.0, -1.0, 0.0, 0.0, 1.0, 1.104, 'commodity_engine_components,'],\n",
       "  [0.0, -1.0, 0.0, 0.0, 1.0, 1.0, 'commodity_envoys,'],\n",
       "  [0.0, -1.0, 0.0, 0.0, 1.0, 1.0, 'commodity_excursionists,'],\n",
       "  [0.0, -1.0, 0.0, 0.0, 1.0, 2.3, 'commodity_food_br,'],\n",
       "  [0.0, -1.0, 0.0, 0.0, 1.0, 2.43, 'commodity_gadolinium,'],\n",
       "  [0.0, -1.0, 0.0, 0.0, 1.0, 2.35, 'commodity_gin,'],\n",
       "  [0.0, -1.0, 150.0, 500.0, 0.0, 1.81, 'commodity_H_fuel,'],\n",
       "  [0.0, -1.0, 0.0, 0.0, 1.0, 4.5, 'commodity_hazmat_canisters,'],\n",
       "  [0.0, -1.0, 0.0, 0.0, 1.0, 1.66, 'commodity_high_temp_alloys,'],\n",
       "  [0.0, -1.0, 0.0, 0.0, 1.0, 1.0, 'commodity_holidayers,'],\n",
       "  [0.0, -1.0, 0.0, 0.0, 1.0, 2.52, 'commodity_holmium,'],\n",
       "  [0.0, -1.0, 0.0, 0.0, 1.0, 1.0, 'commodity_homesteaders,'],\n",
       "  [0.0, -1.0, 0.0, 0.0, 1.0, 1.65, 'commodity_hydrocarbons,'],\n",
       "  [0.0, -1.0, 0.0, 0.0, 1.0, 1.18, 'commodity_industrial,'],\n",
       "  [0.0, -1.0, 0.0, 0.0, 1.0, 1.298, 'commodity_iridium,'],\n",
       "  [0.0, -1.0, 0.0, 0.0, 1.0, 1.655, 'commodity_lasers,'],\n",
       "  [0.0, -1.0, 0.0, 0.0, 1.0, 2.99, 'commodity_lightarms,'],\n",
       "  [0.0, -1.0, 0.0, 0.0, 1.0, 2.265, 'commodity_marijuana,'],\n",
       "  [0.0, -1.0, 0.0, 0.0, 1.0, 1.425, 'commodity_medstasis,'],\n",
       "  [0.0, -1.0, 0.0, 0.0, 1.0, 2.51, 'commodity_molybdenum,'],\n",
       "  [0.0, -1.0, 0.0, 0.0, 1.0, 4.14, 'commodity_mox_fuel,'],\n",
       "  [0.0, -1.0, 0.0, 0.0, 1.0, 1.106, 'commodity_multiplexors,'],\n",
       "  [0.0, -1.0, 0.0, 0.0, 1.0, 1.252, 'commodity_nanocapacitors,'],\n",
       "  [0.0, -1.0, 0.0, 0.0, 1.0, 1.45, 'commodity_nanotubes,'],\n",
       "  [0.0, -1.0, 0.0, 0.0, 1.0, 2.52, 'commodity_neodymium,'],\n",
       "  [0.0, -1.0, 0.0, 0.0, 1.0, 1.76, 'commodity_neon,'],\n",
       "  [0.0, -1.0, 0.0, 0.0, 1.0, 2.51, 'commodity_nickel,'],\n",
       "  [0.0, -1.0, 0.0, 0.0, 1.0, 1.236, 'commodity_niobium,'],\n",
       "  [0.0, -1.0, 0.0, 0.0, 1.0, 1.106, 'commodity_nucleardevices,'],\n",
       "  [0.0, -1.0, 0.0, 0.0, 1.0, 1.375, 'commodity_optical_chips,'],\n",
       "  [0.0, -1.0, 0.0, 0.0, 1.0, 1.4, 'commodity_optronics,'],\n",
       "  [0.0, -1.0, 0.0, 0.0, 1.0, 1.515, 'commodity_palladium,'],\n",
       "  [0.0, -1.0, 0.0, 0.0, 1.0, 1.055, 'commodity_passengers,'],\n",
       "  [0.0, -1.0, 0.0, 0.0, 1.0, 1.0, 'commodity_passengers_br,'],\n",
       "  [0.0, -1.0, 0.0, 0.0, 1.0, 1.052, 'commodity_passengers_bw,'],\n",
       "  [0.0, -1.0, 0.0, 0.0, 1.0, 1.0, 'commodity_passengers_ga,'],\n",
       "  [0.0, -1.0, 0.0, 0.0, 1.0, 1.0, 'commodity_passengers_ku,'],\n",
       "  [0.0, -1.0, 0.0, 0.0, 1.0, 1.055, 'commodity_passengers_li,'],\n",
       "  [0.0, -1.0, 0.0, 0.0, 1.0, 1.055, 'commodity_passengers_rh,'],\n",
       "  [0.0, -1.0, 0.0, 0.0, 1.0, 3.07, 'commodity_pharm,'],\n",
       "  [0.0, -1.0, 0.0, 0.0, 1.0, 1.0, 'commodity_pilgrims,'],\n",
       "  [0.0, -1.0, 0.0, 0.0, 1.0, 1.0, 'commodity_pioneers,'],\n",
       "  [0.0, -1.0, 0.0, 0.0, 1.0, 1.45, 'commodity_plastics,'],\n",
       "  [0.0, -1.0, 0.0, 0.0, 1.0, 1.196, 'commodity_platinum,'],\n",
       "  [0.0, -1.0, 0.0, 0.0, 1.0, 1.24, 'commodity_polymers,'],\n",
       "  [0.0, -1.0, 0.0, 0.0, 1.0, 2.5, 'commodity_samarium,'],\n",
       "  [0.0, -1.0, 0.0, 0.0, 1.0, 1.0, 'commodity_settlers,'],\n",
       "  [0.0, -1.0, 0.0, 0.0, 1.0, 1.555, 'commodity_shapememoryalloy,'],\n",
       "  [0.0, -1.0, 0.0, 0.0, 1.0, 1.8, 'commodity_ship_hull_panels,'],\n",
       "  [0.0, -1.0, 0.0, 0.0, 1.0, 2.99, 'commodity_sidearms,'],\n",
       "  [0.0, -1.0, 0.0, 0.0, 1.0, 1.0, 'commodity_sightseers,'],\n",
       "  [0.0, -1.0, 0.0, 0.0, 1.0, 2.27, 'commodity_silver,'],\n",
       "  [0.0, -1.0, 0.0, 0.0, 1.0, 1.0, 'commodity_socialites,'],\n",
       "  [0.0, -1.0, 0.0, 0.0, 1.0, 1.4, 'commodity_solarpanels,'],\n",
       "  [0.0, -1.0, 0.0, 0.0, 1.0, 3.39, 'commodity_super_alloys,'],\n",
       "  [0.0, -1.0, 0.0, 0.0, 1.0, 3.53, 'commodity_superconductors,'],\n",
       "  [0.0, -1.0, 0.0, 0.0, 1.0, 2.5, 'commodity_tantalum,'],\n",
       "  [0.0, -1.0, 0.0, 0.0, 1.0, 2.52, 'commodity_tellurium,'],\n",
       "  [0.0, -1.0, 0.0, 0.0, 1.0, 2.22, 'commodity_titanium,'],\n",
       "  [0.0, -1.0, 0.0, 0.0, 1.0, 2.16, 'commodity_tobacco,'],\n",
       "  [0.0, -1.0, 0.0, 0.0, 1.0, 1.0, 'commodity_tourists,'],\n",
       "  [0.0, -1.0, 150.0, 500.0, 0.0, 402.9, 'commodity_toxic_waste,'],\n",
       "  [0.0, -1.0, 0.0, 0.0, 1.0, 1.0, 'commodity_travelers,'],\n",
       "  [0.0, -1.0, 0.0, 0.0, 1.0, 1.42, 'commodity_tungsten,'],\n",
       "  [0.0, -1.0, 0.0, 0.0, 1.0, 1.71, 'commodity_ultralloy,'],\n",
       "  [0.0, -1.0, 0.0, 0.0, 1.0, 1.0, 'commodity_vacationers,'],\n",
       "  [0.0, -1.0, 0.0, 0.0, 1.0, 2.41, 'commodity_vanadium,'],\n",
       "  [0.0, -1.0, 0.0, 0.0, 1.0, 1.0, 'commodity_vips,'],\n",
       "  [0.0, -1.0, 0.0, 0.0, 1.0, 1.256, 'commodity_xenobiotic,'],\n",
       "  [0.0, -1.0, 0.0, 0.0, 1.0, 2.51, 'commodity_yttrium,'],\n",
       "  [0.0, -1.0, 0.0, 0.0, 1.0, 2.3, 'commodity_zinc,'],\n",
       "  [0.0, -1.0, 150.0, 500.0, 0.0, 3.0, 'commodity_oxygen,'],\n",
       "  [0.0, -1.0, 150.0, 500.0, 0.0, 3.0, 'commodity_water,'],\n",
       "  [0.0, -1.0, 150.0, 500.0, 0.0, 1.0, 'commodity_credit1,']]}"
      ]
     },
     "execution_count": 11,
     "metadata": {},
     "output_type": "execute_result"
    }
   ],
   "source": [
    "bases[1]"
   ]
  },
  {
   "cell_type": "code",
   "execution_count": 58,
   "metadata": {
    "ExecuteTime": {
     "end_time": "2020-04-17T14:30:28.828561Z",
     "start_time": "2020-04-17T14:30:28.820238Z"
    }
   },
   "outputs": [],
   "source": [
    "food = ['commodity_food,',\n",
    "'commodity_food_br,',\n",
    "'commodity_food_ga,',\n",
    "'commodity_luxury_food,',\n",
    "'commodity_rice,',\n",
    "'commodity_gaianlife,',\n",
    "'commodity_synthpaste,',]"
   ]
  },
  {
   "cell_type": "code",
   "execution_count": 61,
   "metadata": {
    "ExecuteTime": {
     "end_time": "2020-04-17T14:30:38.598170Z",
     "start_time": "2020-04-17T14:30:38.568157Z"
    }
   },
   "outputs": [
    {
     "data": {
      "text/plain": [
       "['Ew06_03_base',\n",
       " 'KU13_10_Base',\n",
       " 'Iw06_01_base',\n",
       " 'EW12_02_Base',\n",
       " 'LI12_06_Base',\n",
       " 'Rh05_03_base',\n",
       " 'IW08_02_Base',\n",
       " 'Bw07_01_base',\n",
       " 'EW15_07_Base',\n",
       " 'GA04_05_Base',\n",
       " 'BW71_02_Base',\n",
       " 'KU09_03_Base',\n",
       " 'Rh01_01_base',\n",
       " 'EW17_02_Base',\n",
       " 'IW11_04_Base',\n",
       " 'GA01_01_Base',\n",
       " 'EW09_01_Base',\n",
       " 'IW12_03_Base',\n",
       " 'EW17_03_Base',\n",
       " 'GA02_10_Base',\n",
       " 'GA08_04_Base',\n",
       " 'LI13_05_Base',\n",
       " 'IW12_01_Base',\n",
       " 'GA04_04_Base',\n",
       " 'Ew01_01_base',\n",
       " 'GA07_05_Base',\n",
       " 'EW08_02_Base',\n",
       " 'EW15_01_Base',\n",
       " 'BW13_01_Base',\n",
       " 'BR08_02_Base',\n",
       " 'EW13_05_Base',\n",
       " 'GA01_02_Base',\n",
       " 'GA07_03_Base',\n",
       " 'Br01_01_base',\n",
       " 'Iw01_02_base',\n",
       " 'KU13_06_Base',\n",
       " 'RH10_01_Base',\n",
       " 'RH06_03_Base',\n",
       " 'Br04_07_base',\n",
       " 'GA02_02_Base',\n",
       " 'Br03_05_Base',\n",
       " 'BR07_09_Base',\n",
       " 'EW14_04_Base',\n",
       " 'HI20_02_Base',\n",
       " 'EW45_01_Base',\n",
       " 'Bw10_01_base',\n",
       " 'GA04_09_Base',\n",
       " 'Li03_01_base',\n",
       " 'GA01_12_Base',\n",
       " 'BW16_04_Base',\n",
       " 'Iw03_02_base',\n",
       " 'Ku03_01_base',\n",
       " 'EW12_03_Base',\n",
       " 'BR22_02_Base',\n",
       " 'GA01_06_Base',\n",
       " 'GA08_07_Base',\n",
       " 'EW07_01_Base',\n",
       " 'Ku04_01_base',\n",
       " 'EW63_02_Base',\n",
       " 'LI09_02_Base',\n",
       " 'HI03_02_Base',\n",
       " 'ST04_02_base',\n",
       " 'BW13_02_Base',\n",
       " 'Br05_05_base',\n",
       " 'GA01_09_Base',\n",
       " 'GA02_01_Base',\n",
       " 'Ew02_01_base',\n",
       " 'Rh02_01_base',\n",
       " 'GA01_03_Base',\n",
       " 'Rh05_04_base',\n",
       " 'GA06_06_Base',\n",
       " 'GA03_02_Base',\n",
       " 'RH06_04_Base',\n",
       " 'Iw05_02_base',\n",
       " 'Bw09_01_base',\n",
       " 'Bw01_02_base',\n",
       " 'EW19_01_Base',\n",
       " 'BW69_02_Base',\n",
       " 'BR22_01_Base',\n",
       " 'BW15_05_Base',\n",
       " 'Ku06_01_base',\n",
       " 'LI09_04_Base',\n",
       " 'LI12_07_Base',\n",
       " 'IW13_02_Base',\n",
       " 'GA08_05_Base',\n",
       " 'Rh03_02_base',\n",
       " 'Br04_01_base',\n",
       " 'Ku01_01_base',\n",
       " 'EW09_03_Base',\n",
       " 'Ew04_01_base',\n",
       " 'BW46_02_Base',\n",
       " 'RH07_05_Base',\n",
       " 'Br05_01_base',\n",
       " 'EW19_04_Base',\n",
       " 'GA08_01_Base',\n",
       " 'GA01_14_Base',\n",
       " 'GA07_04_Base',\n",
       " 'EW09_04_Base',\n",
       " 'IW08_04_Base',\n",
       " 'Iw04_02_base',\n",
       " 'GA06_09_Base',\n",
       " 'LI08_03_Base',\n",
       " 'Li04_01_base',\n",
       " 'Li02_06_base',\n",
       " 'IW13_08_Base',\n",
       " 'LI12_05_Base',\n",
       " 'BR13_01_Base',\n",
       " 'Li01_12_base',\n",
       " 'Ew03_02_base',\n",
       " 'Hi02_01_base',\n",
       " 'Iw04_01_base',\n",
       " 'HI03_01_Base',\n",
       " 'IW11_05_Base',\n",
       " 'GA08_06_Base',\n",
       " 'RH08_02_Base',\n",
       " 'EW16_01_Base',\n",
       " 'EW16_08_Base',\n",
       " 'Ku01_07_base',\n",
       " 'BR07_11_Base',\n",
       " 'LI07_01_Base',\n",
       " 'Ku05_03_base',\n",
       " 'Bw09_03_base',\n",
       " 'GA03_01_Base',\n",
       " 'Iw06_02_base',\n",
       " 'KU08_03_Base',\n",
       " 'GA04_01_Base',\n",
       " 'LI08_01_Base',\n",
       " 'ST07_01_Base',\n",
       " 'GA08_08_Base',\n",
       " 'EW13_06_Base',\n",
       " 'IW08_03_Base',\n",
       " 'Rh05_01_base',\n",
       " 'IW12_02_Base',\n",
       " 'KU08_02_Base',\n",
       " 'BR17_02_Base',\n",
       " 'GA13_01_Base',\n",
       " 'Iw01_01_base',\n",
       " 'BR09_01_Base',\n",
       " 'EW85_01_Base',\n",
       " 'Ku03_05_base',\n",
       " 'Br04_04_base',\n",
       " 'Bw10_02_base',\n",
       " 'RH11_03_Base',\n",
       " 'Br02_06_Base',\n",
       " 'Li01_01_base',\n",
       " 'EW13_01_Base',\n",
       " 'GA03_08_Base',\n",
       " 'Li03_03_base',\n",
       " 'LI09_06_Base',\n",
       " 'EW07_03_Base',\n",
       " 'EW14_02_Base',\n",
       " 'LI10_01_Base',\n",
       " 'EW15_05_Base',\n",
       " 'Li02_01_base',\n",
       " 'GA01_05_Base',\n",
       " 'Hi01_01_base',\n",
       " 'Ew03_01_base',\n",
       " 'Rh04_01_base',\n",
       " 'HI10_01_Base',\n",
       " 'EW15_06_Base',\n",
       " 'EW14_01_Base',\n",
       " 'Ku02_03_base',\n",
       " 'EW13_04_Base',\n",
       " 'Li02_07_Base',\n",
       " 'Bw02_02_base',\n",
       " 'IW08_01_Base',\n",
       " 'Li04_04_base',\n",
       " 'KU09_01_Base',\n",
       " 'LI09_07_Base',\n",
       " 'KU13_02_Base',\n",
       " 'KU09_02_Base',\n",
       " 'RH06_01_Base',\n",
       " 'Li01_13_base',\n",
       " 'Ku07_01_Base',\n",
       " 'Ku01_04_base',\n",
       " 'Bw02_01_base',\n",
       " 'BW11_03_Base',\n",
       " 'Hi01_02_base',\n",
       " 'GA07_01_Base',\n",
       " 'Rh01_08_base',\n",
       " 'HI20_04_Base',\n",
       " 'LI18_01_Base',\n",
       " 'ST08_03_Base',\n",
       " 'BR17_03_Base',\n",
       " 'Rh03_01_base',\n",
       " 'EW18_01_Base',\n",
       " 'GA02_04_Base',\n",
       " 'RH06_05_Base',\n",
       " 'GA02_11_Base',\n",
       " 'Br03_01_base',\n",
       " 'BW58_01_Base',\n",
       " 'EW63_01_Base',\n",
       " 'GA06_01_Base',\n",
       " 'BW71_01_Base',\n",
       " 'EW08_01_Base']"
      ]
     },
     "execution_count": 61,
     "metadata": {},
     "output_type": "execute_result"
    }
   ],
   "source": [
    "which_sell(food)"
   ]
  },
  {
   "cell_type": "code",
   "execution_count": null,
   "metadata": {},
   "outputs": [],
   "source": []
  }
 ],
 "metadata": {
  "kernelspec": {
   "display_name": "Python 3.7.4 64-bit ('anaconda3': virtualenv)",
   "language": "python",
   "name": "python37464bitanaconda3virtualenv4689841a946143dd80c9fcc86c644564"
  },
  "language_info": {
   "codemirror_mode": {
    "name": "ipython",
    "version": 3
   },
   "file_extension": ".py",
   "mimetype": "text/x-python",
   "name": "python",
   "nbconvert_exporter": "python",
   "pygments_lexer": "ipython3",
   "version": "3.7.4"
  }
 },
 "nbformat": 4,
 "nbformat_minor": 2
}
