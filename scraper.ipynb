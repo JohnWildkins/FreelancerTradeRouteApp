{
 "cells": [
  {
   "cell_type": "code",
   "execution_count": 3,
   "metadata": {
    "ExecuteTime": {
     "end_time": "2020-04-18T18:39:13.549699Z",
     "start_time": "2020-04-18T18:39:13.273874Z"
    }
   },
   "outputs": [],
   "source": [
    "import numpy as np\n",
    "import pandas as pd"
   ]
  },
  {
   "cell_type": "code",
   "execution_count": 4,
   "metadata": {
    "ExecuteTime": {
     "end_time": "2020-04-18T18:39:13.963766Z",
     "start_time": "2020-04-18T18:39:13.939162Z"
    }
   },
   "outputs": [],
   "source": [
    "def get_data(comm_markets_path, distances_path):\n",
    "    '''\n",
    "    A function that pulls in the data from marketcommodities.ini and the flc dump file and scrapes it. \n",
    "    +++++++++\n",
    "    Parameters:\n",
    "    comm_markets_path (str): the path of market_commodities.ini\n",
    "    distances_path (str): the path of the flc dump file\n",
    "    +++++++++\n",
    "    Returns\n",
    "    distances (Dataframe): pandas dataframe of all the viable distances between bases\n",
    "    bases(list of dictonaries): list containing all of the base entries in market_commodities.ini in dictonary \n",
    "    form. Dictonaies hold base_code, base_name, and list of commodities traded. \n",
    "    comm_set (set): set of all commodities bought or sold on all bases\n",
    "    base_names (list): all base names\n",
    "    '''\n",
    "\n",
    "\n",
    "    distances = pd.read_csv(distances_path, names = ['start', 'end', 'time'])\n",
    "    distances = distances[distances['start']!=distances['end']]\n",
    "    distances = distances[distances['time']!=-1]\n",
    "\n",
    "    with open(comm_markets_path, 'r') as file:\n",
    "        lines = file.readlines() \n",
    "    \n",
    "    comment_count = 0\n",
    "    bases = []\n",
    "    commodities =[]\n",
    "    for i in lines[2:]:\n",
    "        if i.lower() == '[basegood]\\n' or i == ';EVERYTHING BELOW THIS LINE IS DATABASE.':\n",
    "            if comment =='':\n",
    "                comment = base_code\n",
    "            bases.append({'base_code':base_code, 'Name':comment, 'commodities':commodities})\n",
    "            commodities=[]\n",
    "            comment = ''\n",
    "            comment_count = 0\n",
    "        if i[:4].lower() == \"base\":\n",
    "            base_code = i[7:]\n",
    "        if i[:1] == ';' and comment_count == 0:\n",
    "            comment = i\n",
    "            comment_count+=1\n",
    "        elif i[:1]==';':\n",
    "            print(i)\n",
    "            comment +'\\n'+ i\n",
    "        if i[:10].lower() == 'marketgood':\n",
    "            t =i[13:].split()\n",
    "            l = [float(j.strip(',')) for j in t[1:6]]\n",
    "            l.append(float(t.pop()))\n",
    "            l.append(t[0])\n",
    "            commodities.append(l)\n",
    "    \n",
    "    comm_set = set([])\n",
    "    for i in bases: #this loop in loop adds all the commodities to a set so we know how many commodities to display in our applet\n",
    "        j = i['commodities']\n",
    "        for k in j:\n",
    "            comm_set.add(k[6])\n",
    "    base_names=[i['Name'].strip('\\n') for i in bases]\n",
    "    \n",
    "    return distances, bases, comm_set, base_names,"
   ]
  },
  {
   "cell_type": "code",
   "execution_count": 5,
   "metadata": {
    "ExecuteTime": {
     "end_time": "2020-04-18T18:39:16.188446Z",
     "start_time": "2020-04-18T18:39:16.182261Z"
    }
   },
   "outputs": [],
   "source": [
    "def which_sell(commodity_list):\n",
    "    sells_set = set([])\n",
    "    for i in bases:\n",
    "        for k in i['commodities']:\n",
    "            if k[-1] in commodity_list and k[-3]== 0:\n",
    "                sells_set.add(i['base_code'])\n",
    "    l = list(sells_set)\n",
    "    return [i.strip('\\n') for i in l]"
   ]
  },
  {
   "cell_type": "code",
   "execution_count": null,
   "metadata": {},
   "outputs": [],
   "source": [
    "def sort_by_closest_base(list_of_bases, distances):\n",
    "    '''\n",
    "    a function that takes the distances dataframe and any list of bases and sorts all the other bases out into the lists of bases closest to those bases in the list of bases. \n",
    "    Its got a lot of fuckery, and maybe can be given aother pass for better algorithmic complexity. I'm so sorry. \n",
    "    \n",
    "    Parameters \n",
    "    list_of_bases (list): a list of string base codes\n",
    "    distances (DataFrame): the base to base travel times from flcomp formatted as a DataFrame by get_data()\n",
    "    \n",
    "    Returns:\n",
    "    sorted_l (list of lists) list of list of bases, sorted in the same shape as the list of bases fed in, \n",
    "    with each list containing those bases that are closest to the base listed at the same index in list_of_bases\n",
    "    '''\n",
    "    k = [distances[distances['start'] == i] for i in list_of_bases] # makes a list of dataframes of routes starting from the bases in question\n",
    "    k = [i[~i['end'].isin(list_of_bases)].reset_index() for i in k] # gets rid of routes between bases in the  list\n",
    "    \n",
    "    df = pd.DataFrame()\n",
    "    for idx, i in enumerate(list_of_bases): #peices the list k back together into a larger thing\n",
    "        df[i]=k[idx]['time']\n",
    "    df['base'] = k[0]['end']\n",
    "    df = df.set_index('base')\n",
    "\n",
    "    sorted_bases = df.idxmin(axis=1)\n",
    "    sorted_bases = sorted_bases.reset_index()\n",
    "    sorted_l =[]\n",
    "\n",
    "    for i in list_of_bases:\n",
    "        sorted_l.append(sorted_bases[sorted_bases[0]==i]['base'].to_list())\n",
    "\n",
    "    return sorted_l"
   ]
  },
  {
   "cell_type": "code",
   "execution_count": 31,
   "metadata": {
    "ExecuteTime": {
     "end_time": "2020-04-18T19:28:28.556615Z",
     "start_time": "2020-04-18T19:28:28.551996Z"
    }
   },
   "outputs": [],
   "source": [
    "path_markets = 'market_commodities.ini'\n",
    "distances_path = 'dump.csv'"
   ]
  },
  {
   "cell_type": "code",
   "execution_count": 32,
   "metadata": {
    "ExecuteTime": {
     "end_time": "2020-04-18T19:28:31.091056Z",
     "start_time": "2020-04-18T19:28:30.862752Z"
    }
   },
   "outputs": [],
   "source": [
    "distances, bases, comm_set, base_names = get_data(path_markets, distances_path)"
   ]
  },
  {
   "cell_type": "code",
   "execution_count": 126,
   "metadata": {
    "ExecuteTime": {
     "end_time": "2020-04-12T23:28:00.727825Z",
     "start_time": "2020-04-12T23:28:00.699183Z"
    }
   },
   "outputs": [],
   "source": [
    "now, suppose we sell a commodity from X bases. sort all the other bases into shortest distance from those bases. \n",
    "    \n",
    "        "
   ]
  },
  {
   "cell_type": "code",
   "execution_count": 138,
   "metadata": {
    "ExecuteTime": {
     "end_time": "2020-04-12T23:38:51.448143Z",
     "start_time": "2020-04-12T23:38:51.433592Z"
    }
   },
   "outputs": [
    {
     "data": {
      "text/plain": [
       "297"
      ]
     },
     "execution_count": 138,
     "metadata": {},
     "output_type": "execute_result"
    }
   ],
   "source": []
  },
  {
   "cell_type": "code",
   "execution_count": 33,
   "metadata": {
    "ExecuteTime": {
     "end_time": "2020-04-18T19:28:39.435668Z",
     "start_time": "2020-04-18T19:28:39.426715Z"
    }
   },
   "outputs": [],
   "source": [
    "list_of_bases = ['li01_01_base','rh01_01_base','br01_01_base', 'ku01_01_base', 'ga01_01_base']"
   ]
  },
  {
   "cell_type": "code",
   "execution_count": 66,
   "metadata": {
    "ExecuteTime": {
     "end_time": "2020-04-19T02:13:15.221244Z",
     "start_time": "2020-04-19T02:13:15.112058Z"
    }
   },
   "outputs": [],
   "source": []
  },
  {
   "cell_type": "code",
   "execution_count": null,
   "metadata": {},
   "outputs": [],
   "source": [
    "drop the things in the list from end"
   ]
  },
  {
   "cell_type": "code",
   "execution_count": 163,
   "metadata": {
    "ExecuteTime": {
     "end_time": "2020-04-19T03:23:54.673560Z",
     "start_time": "2020-04-19T03:23:54.643858Z"
    }
   },
   "outputs": [],
   "source": []
  },
  {
   "cell_type": "markdown",
   "metadata": {
    "ExecuteTime": {
     "end_time": "2020-04-19T02:32:58.140565Z",
     "start_time": "2020-04-19T02:32:58.109187Z"
    }
   },
   "source": [
    "put the dataframes back together, get rid of start and keep the first end (new index) and the times labled as start base"
   ]
  },
  {
   "cell_type": "code",
   "execution_count": 242,
   "metadata": {
    "ExecuteTime": {
     "end_time": "2020-04-19T12:15:51.085399Z",
     "start_time": "2020-04-19T12:15:51.074615Z"
    }
   },
   "outputs": [],
   "source": [
    "def sort_by_closest_base(list_of_bases, distances):\n",
    "    '''\n",
    "    a function that takes the distances dataframe and any list of bases and sorts all the other bases out into the lists of bases closest to those bases in the list of bases. \n",
    "    Its got a lot of fuckery, and maybe can be given aother pass for better algorithmic complexity. I'm so sorry. \n",
    "    \n",
    "    Parameters \n",
    "    list_of_bases (list): a list of string base codes\n",
    "    distances (DataFrame): the base to base travel times from flcomp formatted as a DataFrame by get_data()\n",
    "    \n",
    "    Returns:\n",
    "    sorted_l (list of lists) list of list of bases, sorted in the same shape as the list of bases fed in, \n",
    "    with each list containing those bases that are closest to the base listed at the same index in list_of_bases\n",
    "    '''\n",
    "    k = [distances[distances['start'] == i] for i in list_of_bases] # makes a list of dataframes of routes starting from the bases in question\n",
    "    k = [i[~i['end'].isin(list_of_bases)].reset_index() for i in k] # gets rid of routes between bases in the  list\n",
    "    \n",
    "    df = pd.DataFrame()\n",
    "    for idx, i in enumerate(list_of_bases): #peices the list k back together into a larger thing\n",
    "        df[i]=k[idx]['time']\n",
    "    df['base'] = k[0]['end']\n",
    "    df = df.set_index('base')\n",
    "\n",
    "    sorted_bases = df.idxmin(axis=1)\n",
    "    sorted_bases = sorted_bases.reset_index()\n",
    "    sorted_l =[]\n",
    "\n",
    "    for i in list_of_bases:\n",
    "        sorted_l.append(sorted_bases[sorted_bases[0]==i]['base'].to_list())\n",
    "\n",
    "    return sorted_l"
   ]
  },
  {
   "cell_type": "code",
   "execution_count": 243,
   "metadata": {
    "ExecuteTime": {
     "end_time": "2020-04-19T12:15:53.446599Z",
     "start_time": "2020-04-19T12:15:53.326464Z"
    }
   },
   "outputs": [],
   "source": [
    "l = sort_by_closest_base(list_of_bases, distances)"
   ]
  },
  {
   "cell_type": "code",
   "execution_count": 250,
   "metadata": {
    "ExecuteTime": {
     "end_time": "2020-04-19T12:16:19.982774Z",
     "start_time": "2020-04-19T12:16:19.977902Z"
    }
   },
   "outputs": [
    {
     "data": {
      "text/plain": [
       "94"
      ]
     },
     "execution_count": 250,
     "metadata": {},
     "output_type": "execute_result"
    }
   ],
   "source": [
    "len(l[0])"
   ]
  },
  {
   "cell_type": "code",
   "execution_count": 149,
   "metadata": {
    "ExecuteTime": {
     "end_time": "2020-04-19T03:19:45.475611Z",
     "start_time": "2020-04-19T03:19:45.466761Z"
    }
   },
   "outputs": [],
   "source": [
    "b =[i['time'].tolist() for i in k]\n",
    "b.append(k[0]['end'].tolist())"
   ]
  },
  {
   "cell_type": "code",
   "execution_count": 190,
   "metadata": {
    "ExecuteTime": {
     "end_time": "2020-04-19T03:41:17.386993Z",
     "start_time": "2020-04-19T03:41:17.377340Z"
    }
   },
   "outputs": [],
   "source": [
    "for i in g:\n",
    "    print(i)"
   ]
  },
  {
   "cell_type": "code",
   "execution_count": 158,
   "metadata": {
    "ExecuteTime": {
     "end_time": "2020-04-19T03:21:26.912269Z",
     "start_time": "2020-04-19T03:21:26.895000Z"
    }
   },
   "outputs": [
    {
     "data": {
      "text/plain": [
       "array([['613767', '822295', '8396', '930644', '971716', 'br01_04_base'],\n",
       "       ['547640', '814798', '68277', '911424', '952496', 'br01_05_base'],\n",
       "       ['611624', '830470', '7046', '920594', '961666', 'br01_06_base'],\n",
       "       ...,\n",
       "       ['1063804', '1060542', '1592134', '1138015', '1475946',\n",
       "        'st39_02_base'],\n",
       "       ['1238729', '1235467', '1767059', '1312940', '1650871',\n",
       "        'st39_03_base'],\n",
       "       ['1056118', '1052856', '1584448', '1130329', '1468260',\n",
       "        'st39_04_base']], dtype='<U21')"
      ]
     },
     "execution_count": 158,
     "metadata": {},
     "output_type": "execute_result"
    }
   ],
   "source": [
    "b =[i['time'].tolist() for i in k]\n",
    "b.append(k[0]['end'].tolist())\n",
    "\n",
    "b=np.array(b)\n",
    "\n",
    "b.T"
   ]
  },
  {
   "cell_type": "code",
   "execution_count": 159,
   "metadata": {
    "ExecuteTime": {
     "end_time": "2020-04-19T03:22:55.612187Z",
     "start_time": "2020-04-19T03:22:55.579105Z"
    }
   },
   "outputs": [
    {
     "data": {
      "text/plain": [
       "[               start           end     time\n",
       " 217669  li01_01_base  br01_04_base   613767\n",
       " 217670  li01_01_base  br01_05_base   547640\n",
       " 217671  li01_01_base  br01_06_base   611624\n",
       " 217672  li01_01_base  br01_07_base   544251\n",
       " 217673  li01_01_base  br01_08_base   684300\n",
       " ...              ...           ...      ...\n",
       " 218224  li01_01_base  st08_02_base   914687\n",
       " 218225  li01_01_base  st39_01_base  1139393\n",
       " 218226  li01_01_base  st39_02_base  1063804\n",
       " 218227  li01_01_base  st39_03_base  1238729\n",
       " 218228  li01_01_base  st39_04_base  1056118\n",
       " \n",
       " [549 rows x 3 columns],                start           end     time\n",
       " 267598  rh01_01_base  br01_04_base   822295\n",
       " 267599  rh01_01_base  br01_05_base   814798\n",
       " 267600  rh01_01_base  br01_06_base   830470\n",
       " 267601  rh01_01_base  br01_07_base   821598\n",
       " 267602  rh01_01_base  br01_08_base   959215\n",
       " ...              ...           ...      ...\n",
       " 268153  rh01_01_base  st08_02_base   911425\n",
       " 268154  rh01_01_base  st39_01_base  1136131\n",
       " 268155  rh01_01_base  st39_02_base  1060542\n",
       " 268156  rh01_01_base  st39_03_base  1235467\n",
       " 268157  rh01_01_base  st39_04_base  1052856\n",
       " \n",
       " [549 rows x 3 columns],             start           end     time\n",
       " 1    br01_01_base  br01_04_base     8396\n",
       " 2    br01_01_base  br01_05_base    68277\n",
       " 3    br01_01_base  br01_06_base     7046\n",
       " 4    br01_01_base  br01_07_base    72373\n",
       " 5    br01_01_base  br01_08_base   153287\n",
       " ..            ...           ...      ...\n",
       " 556  br01_01_base  st08_02_base  1443017\n",
       " 557  br01_01_base  st39_01_base  1667723\n",
       " 558  br01_01_base  st39_02_base  1592134\n",
       " 559  br01_01_base  st39_03_base  1767059\n",
       " 560  br01_01_base  st39_04_base  1584448\n",
       " \n",
       " [549 rows x 3 columns],                start           end     time\n",
       " 181765  ku01_01_base  br01_04_base   930644\n",
       " 181766  ku01_01_base  br01_05_base   911424\n",
       " 181767  ku01_01_base  br01_06_base   920594\n",
       " 181768  ku01_01_base  br01_07_base   906599\n",
       " 181769  ku01_01_base  br01_08_base   909321\n",
       " ...              ...           ...      ...\n",
       " 182320  ku01_01_base  st08_02_base   988326\n",
       " 182321  ku01_01_base  st39_01_base  1213604\n",
       " 182322  ku01_01_base  st39_02_base  1138015\n",
       " 182323  ku01_01_base  st39_03_base  1312940\n",
       " 182324  ku01_01_base  st39_04_base  1130329\n",
       " \n",
       " [549 rows x 3 columns],                start           end     time\n",
       " 110518  ga01_01_base  br01_04_base   971716\n",
       " 110519  ga01_01_base  br01_05_base   952496\n",
       " 110520  ga01_01_base  br01_06_base   961666\n",
       " 110521  ga01_01_base  br01_07_base   947671\n",
       " 110522  ga01_01_base  br01_08_base   950393\n",
       " ...              ...           ...      ...\n",
       " 111073  ga01_01_base  st08_02_base  1326257\n",
       " 111074  ga01_01_base  st39_01_base  1551535\n",
       " 111075  ga01_01_base  st39_02_base  1475946\n",
       " 111076  ga01_01_base  st39_03_base  1650871\n",
       " 111077  ga01_01_base  st39_04_base  1468260\n",
       " \n",
       " [549 rows x 3 columns]]"
      ]
     },
     "execution_count": 159,
     "metadata": {},
     "output_type": "execute_result"
    }
   ],
   "source": [
    "k"
   ]
  },
  {
   "cell_type": "code",
   "execution_count": 94,
   "metadata": {
    "ExecuteTime": {
     "end_time": "2020-04-19T02:40:06.401461Z",
     "start_time": "2020-04-19T02:40:06.372721Z"
    }
   },
   "outputs": [
    {
     "ename": "TypeError",
     "evalue": "rename_axis() takes from 1 to 2 positional arguments but 3 were given",
     "output_type": "error",
     "traceback": [
      "\u001b[0;31m---------------------------------------------------------------------------\u001b[0m",
      "\u001b[0;31mTypeError\u001b[0m                                 Traceback (most recent call last)",
      "\u001b[0;32m<ipython-input-94-76d1e97248db>\u001b[0m in \u001b[0;36m<module>\u001b[0;34m\u001b[0m\n\u001b[0;32m----> 1\u001b[0;31m \u001b[0mdistances_comb\u001b[0m \u001b[0;34m=\u001b[0m \u001b[0mk\u001b[0m\u001b[0;34m[\u001b[0m\u001b[0;36m0\u001b[0m\u001b[0;34m]\u001b[0m\u001b[0;34m[\u001b[0m\u001b[0;34m[\u001b[0m\u001b[0;34m'end'\u001b[0m\u001b[0;34m,\u001b[0m \u001b[0;34m'time'\u001b[0m\u001b[0;34m]\u001b[0m\u001b[0;34m]\u001b[0m\u001b[0;34m.\u001b[0m\u001b[0mrename_axis\u001b[0m\u001b[0;34m(\u001b[0m\u001b[0;34m'time'\u001b[0m\u001b[0;34m,\u001b[0m \u001b[0mlist_of_bases\u001b[0m\u001b[0;34m[\u001b[0m\u001b[0;36m0\u001b[0m\u001b[0;34m]\u001b[0m\u001b[0;34m)\u001b[0m\u001b[0;34m\u001b[0m\u001b[0;34m\u001b[0m\u001b[0m\n\u001b[0m\u001b[1;32m      2\u001b[0m \u001b[0mlist_of_bases\u001b[0m\u001b[0;34m[\u001b[0m\u001b[0;36m0\u001b[0m\u001b[0;34m]\u001b[0m\u001b[0;34m\u001b[0m\u001b[0;34m\u001b[0m\u001b[0m\n",
      "\u001b[0;32m~/anaconda3/lib/python3.7/site-packages/pandas/util/_decorators.py\u001b[0m in \u001b[0;36mwrapper\u001b[0;34m(*args, **kwargs)\u001b[0m\n\u001b[1;32m    225\u001b[0m         \u001b[0;34m@\u001b[0m\u001b[0mwraps\u001b[0m\u001b[0;34m(\u001b[0m\u001b[0mfunc\u001b[0m\u001b[0;34m)\u001b[0m\u001b[0;34m\u001b[0m\u001b[0;34m\u001b[0m\u001b[0m\n\u001b[1;32m    226\u001b[0m         \u001b[0;32mdef\u001b[0m \u001b[0mwrapper\u001b[0m\u001b[0;34m(\u001b[0m\u001b[0;34m*\u001b[0m\u001b[0margs\u001b[0m\u001b[0;34m,\u001b[0m \u001b[0;34m**\u001b[0m\u001b[0mkwargs\u001b[0m\u001b[0;34m)\u001b[0m \u001b[0;34m->\u001b[0m \u001b[0mCallable\u001b[0m\u001b[0;34m[\u001b[0m\u001b[0;34m...\u001b[0m\u001b[0;34m,\u001b[0m \u001b[0mAny\u001b[0m\u001b[0;34m]\u001b[0m\u001b[0;34m:\u001b[0m\u001b[0;34m\u001b[0m\u001b[0;34m\u001b[0m\u001b[0m\n\u001b[0;32m--> 227\u001b[0;31m             \u001b[0;32mreturn\u001b[0m \u001b[0mfunc\u001b[0m\u001b[0;34m(\u001b[0m\u001b[0;34m*\u001b[0m\u001b[0margs\u001b[0m\u001b[0;34m,\u001b[0m \u001b[0;34m**\u001b[0m\u001b[0mkwargs\u001b[0m\u001b[0;34m)\u001b[0m\u001b[0;34m\u001b[0m\u001b[0;34m\u001b[0m\u001b[0m\n\u001b[0m\u001b[1;32m    228\u001b[0m \u001b[0;34m\u001b[0m\u001b[0m\n\u001b[1;32m    229\u001b[0m         \u001b[0mkind\u001b[0m \u001b[0;34m=\u001b[0m \u001b[0minspect\u001b[0m\u001b[0;34m.\u001b[0m\u001b[0mParameter\u001b[0m\u001b[0;34m.\u001b[0m\u001b[0mPOSITIONAL_OR_KEYWORD\u001b[0m\u001b[0;34m\u001b[0m\u001b[0;34m\u001b[0m\u001b[0m\n",
      "\u001b[0;31mTypeError\u001b[0m: rename_axis() takes from 1 to 2 positional arguments but 3 were given"
     ]
    }
   ],
   "source": [
    "distances_comb = k[0][['end', 'time']].rename_axis('time', list_of_bases[0])\n"
   ]
  },
  {
   "cell_type": "code",
   "execution_count": 82,
   "metadata": {
    "ExecuteTime": {
     "end_time": "2020-04-19T02:27:31.375349Z",
     "start_time": "2020-04-19T02:27:30.641451Z"
    }
   },
   "outputs": [],
   "source": [
    "from sklearn.cluster import KMeans"
   ]
  },
  {
   "cell_type": "code",
   "execution_count": 90,
   "metadata": {
    "ExecuteTime": {
     "end_time": "2020-04-19T02:36:09.010502Z",
     "start_time": "2020-04-19T02:36:08.972470Z"
    }
   },
   "outputs": [
    {
     "name": "stderr",
     "output_type": "stream",
     "text": [
      "/home/robert/anaconda3/lib/python3.7/site-packages/ipykernel_launcher.py:1: UserWarning: Boolean Series key will be reindexed to match DataFrame index.\n",
      "  \"\"\"Entry point for launching an IPython kernel.\n"
     ]
    },
    {
     "data": {
      "text/html": [
       "<div>\n",
       "<style scoped>\n",
       "    .dataframe tbody tr th:only-of-type {\n",
       "        vertical-align: middle;\n",
       "    }\n",
       "\n",
       "    .dataframe tbody tr th {\n",
       "        vertical-align: top;\n",
       "    }\n",
       "\n",
       "    .dataframe thead th {\n",
       "        text-align: right;\n",
       "    }\n",
       "</style>\n",
       "<table border=\"1\" class=\"dataframe\">\n",
       "  <thead>\n",
       "    <tr style=\"text-align: right;\">\n",
       "      <th></th>\n",
       "      <th>start</th>\n",
       "      <th>end</th>\n",
       "      <th>time</th>\n",
       "    </tr>\n",
       "  </thead>\n",
       "  <tbody>\n",
       "    <tr>\n",
       "      <th>110518</th>\n",
       "      <td>ga01_01_base</td>\n",
       "      <td>br01_04_base</td>\n",
       "      <td>971716</td>\n",
       "    </tr>\n",
       "    <tr>\n",
       "      <th>110519</th>\n",
       "      <td>ga01_01_base</td>\n",
       "      <td>br01_05_base</td>\n",
       "      <td>952496</td>\n",
       "    </tr>\n",
       "    <tr>\n",
       "      <th>110520</th>\n",
       "      <td>ga01_01_base</td>\n",
       "      <td>br01_06_base</td>\n",
       "      <td>961666</td>\n",
       "    </tr>\n",
       "    <tr>\n",
       "      <th>110521</th>\n",
       "      <td>ga01_01_base</td>\n",
       "      <td>br01_07_base</td>\n",
       "      <td>947671</td>\n",
       "    </tr>\n",
       "    <tr>\n",
       "      <th>110522</th>\n",
       "      <td>ga01_01_base</td>\n",
       "      <td>br01_08_base</td>\n",
       "      <td>950393</td>\n",
       "    </tr>\n",
       "    <tr>\n",
       "      <th>...</th>\n",
       "      <td>...</td>\n",
       "      <td>...</td>\n",
       "      <td>...</td>\n",
       "    </tr>\n",
       "    <tr>\n",
       "      <th>111073</th>\n",
       "      <td>ga01_01_base</td>\n",
       "      <td>st08_02_base</td>\n",
       "      <td>1326257</td>\n",
       "    </tr>\n",
       "    <tr>\n",
       "      <th>111074</th>\n",
       "      <td>ga01_01_base</td>\n",
       "      <td>st39_01_base</td>\n",
       "      <td>1551535</td>\n",
       "    </tr>\n",
       "    <tr>\n",
       "      <th>111075</th>\n",
       "      <td>ga01_01_base</td>\n",
       "      <td>st39_02_base</td>\n",
       "      <td>1475946</td>\n",
       "    </tr>\n",
       "    <tr>\n",
       "      <th>111076</th>\n",
       "      <td>ga01_01_base</td>\n",
       "      <td>st39_03_base</td>\n",
       "      <td>1650871</td>\n",
       "    </tr>\n",
       "    <tr>\n",
       "      <th>111077</th>\n",
       "      <td>ga01_01_base</td>\n",
       "      <td>st39_04_base</td>\n",
       "      <td>1468260</td>\n",
       "    </tr>\n",
       "  </tbody>\n",
       "</table>\n",
       "<p>549 rows × 3 columns</p>\n",
       "</div>"
      ],
      "text/plain": [
       "               start           end     time\n",
       "110518  ga01_01_base  br01_04_base   971716\n",
       "110519  ga01_01_base  br01_05_base   952496\n",
       "110520  ga01_01_base  br01_06_base   961666\n",
       "110521  ga01_01_base  br01_07_base   947671\n",
       "110522  ga01_01_base  br01_08_base   950393\n",
       "...              ...           ...      ...\n",
       "111073  ga01_01_base  st08_02_base  1326257\n",
       "111074  ga01_01_base  st39_01_base  1551535\n",
       "111075  ga01_01_base  st39_02_base  1475946\n",
       "111076  ga01_01_base  st39_03_base  1650871\n",
       "111077  ga01_01_base  st39_04_base  1468260\n",
       "\n",
       "[549 rows x 3 columns]"
      ]
     },
     "execution_count": 90,
     "metadata": {},
     "output_type": "execute_result"
    }
   ],
   "source": [
    "k[4][distances['end'] !=any(list_of_bases)]"
   ]
  },
  {
   "cell_type": "code",
   "execution_count": 58,
   "metadata": {
    "ExecuteTime": {
     "end_time": "2020-04-17T14:30:28.828561Z",
     "start_time": "2020-04-17T14:30:28.820238Z"
    }
   },
   "outputs": [],
   "source": [
    "food = ['commodity_food,',\n",
    "'commodity_food_br,',\n",
    "'commodity_food_ga,',\n",
    "'commodity_luxury_food,',\n",
    "'commodity_rice,',\n",
    "'commodity_gaianlife,',\n",
    "'commodity_synthpaste,',]"
   ]
  },
  {
   "cell_type": "code",
   "execution_count": 14,
   "metadata": {
    "ExecuteTime": {
     "end_time": "2020-04-18T18:42:19.457500Z",
     "start_time": "2020-04-18T18:42:19.443051Z"
    }
   },
   "outputs": [
    {
     "data": {
      "text/plain": [
       "604"
      ]
     },
     "execution_count": 14,
     "metadata": {},
     "output_type": "execute_result"
    }
   ],
   "source": [
    "len(bases)"
   ]
  },
  {
   "cell_type": "code",
   "execution_count": 15,
   "metadata": {
    "ExecuteTime": {
     "end_time": "2020-04-18T18:43:01.051361Z",
     "start_time": "2020-04-18T18:43:01.023392Z"
    }
   },
   "outputs": [
    {
     "data": {
      "text/html": [
       "<div>\n",
       "<style scoped>\n",
       "    .dataframe tbody tr th:only-of-type {\n",
       "        vertical-align: middle;\n",
       "    }\n",
       "\n",
       "    .dataframe tbody tr th {\n",
       "        vertical-align: top;\n",
       "    }\n",
       "\n",
       "    .dataframe thead th {\n",
       "        text-align: right;\n",
       "    }\n",
       "</style>\n",
       "<table border=\"1\" class=\"dataframe\">\n",
       "  <thead>\n",
       "    <tr style=\"text-align: right;\">\n",
       "      <th></th>\n",
       "      <th>start</th>\n",
       "      <th>end</th>\n",
       "      <th>time</th>\n",
       "    </tr>\n",
       "  </thead>\n",
       "  <tbody>\n",
       "    <tr>\n",
       "      <th>1</th>\n",
       "      <td>li01_11_base</td>\n",
       "      <td>li01_01_base</td>\n",
       "      <td>57793</td>\n",
       "    </tr>\n",
       "    <tr>\n",
       "      <th>2</th>\n",
       "      <td>li01_11_base</td>\n",
       "      <td>li01_03_base</td>\n",
       "      <td>60731</td>\n",
       "    </tr>\n",
       "    <tr>\n",
       "      <th>3</th>\n",
       "      <td>li01_11_base</td>\n",
       "      <td>li01_09_base</td>\n",
       "      <td>106869</td>\n",
       "    </tr>\n",
       "    <tr>\n",
       "      <th>4</th>\n",
       "      <td>li01_11_base</td>\n",
       "      <td>li01_12_base</td>\n",
       "      <td>180401</td>\n",
       "    </tr>\n",
       "    <tr>\n",
       "      <th>5</th>\n",
       "      <td>li01_11_base</td>\n",
       "      <td>li01_10_base</td>\n",
       "      <td>126973</td>\n",
       "    </tr>\n",
       "    <tr>\n",
       "      <th>...</th>\n",
       "      <td>...</td>\n",
       "      <td>...</td>\n",
       "      <td>...</td>\n",
       "    </tr>\n",
       "    <tr>\n",
       "      <th>27882</th>\n",
       "      <td>ew06_02_base</td>\n",
       "      <td>ew04_01_base</td>\n",
       "      <td>275520</td>\n",
       "    </tr>\n",
       "    <tr>\n",
       "      <th>27883</th>\n",
       "      <td>ew06_02_base</td>\n",
       "      <td>hi01_01_base</td>\n",
       "      <td>502934</td>\n",
       "    </tr>\n",
       "    <tr>\n",
       "      <th>27884</th>\n",
       "      <td>ew06_02_base</td>\n",
       "      <td>hi02_01_base</td>\n",
       "      <td>273235</td>\n",
       "    </tr>\n",
       "    <tr>\n",
       "      <th>27885</th>\n",
       "      <td>ew06_02_base</td>\n",
       "      <td>hi02_02_base</td>\n",
       "      <td>322338</td>\n",
       "    </tr>\n",
       "    <tr>\n",
       "      <th>27887</th>\n",
       "      <td>ew06_02_base</td>\n",
       "      <td>ew06_01_base</td>\n",
       "      <td>96435</td>\n",
       "    </tr>\n",
       "  </tbody>\n",
       "</table>\n",
       "<p>27390 rows × 3 columns</p>\n",
       "</div>"
      ],
      "text/plain": [
       "              start           end    time\n",
       "1      li01_11_base  li01_01_base   57793\n",
       "2      li01_11_base  li01_03_base   60731\n",
       "3      li01_11_base  li01_09_base  106869\n",
       "4      li01_11_base  li01_12_base  180401\n",
       "5      li01_11_base  li01_10_base  126973\n",
       "...             ...           ...     ...\n",
       "27882  ew06_02_base  ew04_01_base  275520\n",
       "27883  ew06_02_base  hi01_01_base  502934\n",
       "27884  ew06_02_base  hi02_01_base  273235\n",
       "27885  ew06_02_base  hi02_02_base  322338\n",
       "27887  ew06_02_base  ew06_01_base   96435\n",
       "\n",
       "[27390 rows x 3 columns]"
      ]
     },
     "execution_count": 15,
     "metadata": {},
     "output_type": "execute_result"
    }
   ],
   "source": [
    "distances"
   ]
  },
  {
   "cell_type": "code",
   "execution_count": 20,
   "metadata": {
    "ExecuteTime": {
     "end_time": "2020-04-18T18:44:07.737914Z",
     "start_time": "2020-04-18T18:44:07.723623Z"
    }
   },
   "outputs": [
    {
     "data": {
      "text/html": [
       "<div>\n",
       "<style scoped>\n",
       "    .dataframe tbody tr th:only-of-type {\n",
       "        vertical-align: middle;\n",
       "    }\n",
       "\n",
       "    .dataframe tbody tr th {\n",
       "        vertical-align: top;\n",
       "    }\n",
       "\n",
       "    .dataframe thead th {\n",
       "        text-align: right;\n",
       "    }\n",
       "</style>\n",
       "<table border=\"1\" class=\"dataframe\">\n",
       "  <thead>\n",
       "    <tr style=\"text-align: right;\">\n",
       "      <th></th>\n",
       "      <th>start</th>\n",
       "      <th>end</th>\n",
       "      <th>time</th>\n",
       "    </tr>\n",
       "  </thead>\n",
       "  <tbody>\n",
       "    <tr>\n",
       "      <th>14863</th>\n",
       "      <td>rh01_01_base</td>\n",
       "      <td>li01_11_base</td>\n",
       "      <td>646454</td>\n",
       "    </tr>\n",
       "    <tr>\n",
       "      <th>14864</th>\n",
       "      <td>rh01_01_base</td>\n",
       "      <td>li01_01_base</td>\n",
       "      <td>698582</td>\n",
       "    </tr>\n",
       "    <tr>\n",
       "      <th>14865</th>\n",
       "      <td>rh01_01_base</td>\n",
       "      <td>li01_03_base</td>\n",
       "      <td>587719</td>\n",
       "    </tr>\n",
       "    <tr>\n",
       "      <th>14866</th>\n",
       "      <td>rh01_01_base</td>\n",
       "      <td>li01_09_base</td>\n",
       "      <td>651402</td>\n",
       "    </tr>\n",
       "    <tr>\n",
       "      <th>14867</th>\n",
       "      <td>rh01_01_base</td>\n",
       "      <td>li01_12_base</td>\n",
       "      <td>651348</td>\n",
       "    </tr>\n",
       "    <tr>\n",
       "      <th>...</th>\n",
       "      <td>...</td>\n",
       "      <td>...</td>\n",
       "      <td>...</td>\n",
       "    </tr>\n",
       "    <tr>\n",
       "      <th>15024</th>\n",
       "      <td>rh01_01_base</td>\n",
       "      <td>hi01_01_base</td>\n",
       "      <td>675462</td>\n",
       "    </tr>\n",
       "    <tr>\n",
       "      <th>15025</th>\n",
       "      <td>rh01_01_base</td>\n",
       "      <td>hi02_01_base</td>\n",
       "      <td>742449</td>\n",
       "    </tr>\n",
       "    <tr>\n",
       "      <th>15026</th>\n",
       "      <td>rh01_01_base</td>\n",
       "      <td>hi02_02_base</td>\n",
       "      <td>704018</td>\n",
       "    </tr>\n",
       "    <tr>\n",
       "      <th>15028</th>\n",
       "      <td>rh01_01_base</td>\n",
       "      <td>ew06_01_base</td>\n",
       "      <td>772501</td>\n",
       "    </tr>\n",
       "    <tr>\n",
       "      <th>15029</th>\n",
       "      <td>rh01_01_base</td>\n",
       "      <td>ew06_02_base</td>\n",
       "      <td>770505</td>\n",
       "    </tr>\n",
       "  </tbody>\n",
       "</table>\n",
       "<p>165 rows × 3 columns</p>\n",
       "</div>"
      ],
      "text/plain": [
       "              start           end    time\n",
       "14863  rh01_01_base  li01_11_base  646454\n",
       "14864  rh01_01_base  li01_01_base  698582\n",
       "14865  rh01_01_base  li01_03_base  587719\n",
       "14866  rh01_01_base  li01_09_base  651402\n",
       "14867  rh01_01_base  li01_12_base  651348\n",
       "...             ...           ...     ...\n",
       "15024  rh01_01_base  hi01_01_base  675462\n",
       "15025  rh01_01_base  hi02_01_base  742449\n",
       "15026  rh01_01_base  hi02_02_base  704018\n",
       "15028  rh01_01_base  ew06_01_base  772501\n",
       "15029  rh01_01_base  ew06_02_base  770505\n",
       "\n",
       "[165 rows x 3 columns]"
      ]
     },
     "execution_count": 20,
     "metadata": {},
     "output_type": "execute_result"
    }
   ],
   "source": [
    "k[1]"
   ]
  },
  {
   "cell_type": "code",
   "execution_count": 22,
   "metadata": {
    "ExecuteTime": {
     "end_time": "2020-04-18T18:45:30.565910Z",
     "start_time": "2020-04-18T18:45:30.558809Z"
    }
   },
   "outputs": [
    {
     "data": {
      "text/plain": [
       "604"
      ]
     },
     "execution_count": 22,
     "metadata": {},
     "output_type": "execute_result"
    }
   ],
   "source": [
    "len(bases)"
   ]
  },
  {
   "cell_type": "code",
   "execution_count": 28,
   "metadata": {
    "ExecuteTime": {
     "end_time": "2020-04-18T18:47:11.409811Z",
     "start_time": "2020-04-18T18:47:11.376101Z"
    }
   },
   "outputs": [],
   "source": [
    "distances = pd.read_csv(distances_path, names = ['start', 'end', 'time'])\n",
    "#     distances = distances[distances['start']!=distances['end']]\n",
    "#     distances = distances[distances['time']!=-1]"
   ]
  },
  {
   "cell_type": "code",
   "execution_count": 29,
   "metadata": {
    "ExecuteTime": {
     "end_time": "2020-04-18T18:47:14.237116Z",
     "start_time": "2020-04-18T18:47:14.208674Z"
    }
   },
   "outputs": [
    {
     "data": {
      "text/html": [
       "<div>\n",
       "<style scoped>\n",
       "    .dataframe tbody tr th:only-of-type {\n",
       "        vertical-align: middle;\n",
       "    }\n",
       "\n",
       "    .dataframe tbody tr th {\n",
       "        vertical-align: top;\n",
       "    }\n",
       "\n",
       "    .dataframe thead th {\n",
       "        text-align: right;\n",
       "    }\n",
       "</style>\n",
       "<table border=\"1\" class=\"dataframe\">\n",
       "  <thead>\n",
       "    <tr style=\"text-align: right;\">\n",
       "      <th></th>\n",
       "      <th>start</th>\n",
       "      <th>end</th>\n",
       "      <th>time</th>\n",
       "    </tr>\n",
       "  </thead>\n",
       "  <tbody>\n",
       "    <tr>\n",
       "      <th>0</th>\n",
       "      <td>li01_11_base</td>\n",
       "      <td>li01_11_base</td>\n",
       "      <td>0</td>\n",
       "    </tr>\n",
       "    <tr>\n",
       "      <th>1</th>\n",
       "      <td>li01_11_base</td>\n",
       "      <td>li01_01_base</td>\n",
       "      <td>57793</td>\n",
       "    </tr>\n",
       "    <tr>\n",
       "      <th>2</th>\n",
       "      <td>li01_11_base</td>\n",
       "      <td>li01_03_base</td>\n",
       "      <td>60731</td>\n",
       "    </tr>\n",
       "    <tr>\n",
       "      <th>3</th>\n",
       "      <td>li01_11_base</td>\n",
       "      <td>li01_09_base</td>\n",
       "      <td>106869</td>\n",
       "    </tr>\n",
       "    <tr>\n",
       "      <th>4</th>\n",
       "      <td>li01_11_base</td>\n",
       "      <td>li01_12_base</td>\n",
       "      <td>180401</td>\n",
       "    </tr>\n",
       "    <tr>\n",
       "      <th>...</th>\n",
       "      <td>...</td>\n",
       "      <td>...</td>\n",
       "      <td>...</td>\n",
       "    </tr>\n",
       "    <tr>\n",
       "      <th>27884</th>\n",
       "      <td>ew06_02_base</td>\n",
       "      <td>hi02_01_base</td>\n",
       "      <td>273235</td>\n",
       "    </tr>\n",
       "    <tr>\n",
       "      <th>27885</th>\n",
       "      <td>ew06_02_base</td>\n",
       "      <td>hi02_02_base</td>\n",
       "      <td>322338</td>\n",
       "    </tr>\n",
       "    <tr>\n",
       "      <th>27886</th>\n",
       "      <td>ew06_02_base</td>\n",
       "      <td>st01_01_base</td>\n",
       "      <td>-1</td>\n",
       "    </tr>\n",
       "    <tr>\n",
       "      <th>27887</th>\n",
       "      <td>ew06_02_base</td>\n",
       "      <td>ew06_01_base</td>\n",
       "      <td>96435</td>\n",
       "    </tr>\n",
       "    <tr>\n",
       "      <th>27888</th>\n",
       "      <td>ew06_02_base</td>\n",
       "      <td>ew06_02_base</td>\n",
       "      <td>0</td>\n",
       "    </tr>\n",
       "  </tbody>\n",
       "</table>\n",
       "<p>27889 rows × 3 columns</p>\n",
       "</div>"
      ],
      "text/plain": [
       "              start           end    time\n",
       "0      li01_11_base  li01_11_base       0\n",
       "1      li01_11_base  li01_01_base   57793\n",
       "2      li01_11_base  li01_03_base   60731\n",
       "3      li01_11_base  li01_09_base  106869\n",
       "4      li01_11_base  li01_12_base  180401\n",
       "...             ...           ...     ...\n",
       "27884  ew06_02_base  hi02_01_base  273235\n",
       "27885  ew06_02_base  hi02_02_base  322338\n",
       "27886  ew06_02_base  st01_01_base      -1\n",
       "27887  ew06_02_base  ew06_01_base   96435\n",
       "27888  ew06_02_base  ew06_02_base       0\n",
       "\n",
       "[27889 rows x 3 columns]"
      ]
     },
     "execution_count": 29,
     "metadata": {},
     "output_type": "execute_result"
    }
   ],
   "source": [
    "distances"
   ]
  },
  {
   "cell_type": "code",
   "execution_count": 30,
   "metadata": {
    "ExecuteTime": {
     "end_time": "2020-04-18T18:47:26.619301Z",
     "start_time": "2020-04-18T18:47:26.606467Z"
    }
   },
   "outputs": [
    {
     "data": {
      "text/plain": [
       "364816"
      ]
     },
     "execution_count": 30,
     "metadata": {},
     "output_type": "execute_result"
    }
   ],
   "source": [
    "604*604"
   ]
  },
  {
   "cell_type": "code",
   "execution_count": null,
   "metadata": {},
   "outputs": [],
   "source": []
  }
 ],
 "metadata": {
  "kernelspec": {
   "display_name": "Python 3.7.4 64-bit ('anaconda3': virtualenv)",
   "language": "python",
   "name": "python37464bitanaconda3virtualenv4689841a946143dd80c9fcc86c644564"
  },
  "language_info": {
   "codemirror_mode": {
    "name": "ipython",
    "version": 3
   },
   "file_extension": ".py",
   "mimetype": "text/x-python",
   "name": "python",
   "nbconvert_exporter": "python",
   "pygments_lexer": "ipython3",
   "version": "3.7.4"
  }
 },
 "nbformat": 4,
 "nbformat_minor": 2
}
